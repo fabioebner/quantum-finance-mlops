{
 "cells": [
  {
   "cell_type": "markdown",
   "id": "155ef90e",
   "metadata": {},
   "source": [
    "# Exploração Inicial"
   ]
  },
  {
   "cell_type": "markdown",
   "id": "eaf75c4c",
   "metadata": {},
   "source": [
    "A QuantumFinance realizou uma parceria com algumas empresas clientes para fornecer o score de crédito de seus clientes optantes para permitir melhores condições de pagamento.\n",
    "Para que o modelo seja mais simples e diferente do modelo de score principal do banco, será necessário treinar esse modelo com os dados das transações mais recentes dos clientes.\n",
    "\n",
    "Para permitir governança interna e integração com outros sistemas, esta solução precisa incluir:\n",
    "\n",
    "Template de repositório para organização dos arquivos (dataset, notebook, modelo, etc.)\n",
    "Rastreamento dos experimentos do treinamento do modelo\n",
    "Versionamento do modelo\n",
    "Disponibilização de endpoint de API seguro com autenticação e throttling\n",
    "Documentação da API\n",
    "\n",
    "Afim de validar e tornar como um exemplo de implementação para os parceiros integre uma aplicação modelo no Streamlit com a API disponibilizada.\n",
    "\n",
    "Dataset https://www.kaggle.com/datasets/parisrohan/credit-score-classification"
   ]
  },
  {
   "cell_type": "code",
   "execution_count": 1,
   "id": "eaf037b7",
   "metadata": {},
   "outputs": [],
   "source": [
    "\n",
    "import pandas as pd\n",
    "import numpy as np\n",
    "import re\n",
    "from sklearn.impute import SimpleImputer\n",
    "from sklearn.preprocessing import OneHotEncoder, OrdinalEncoder\n",
    "from sklearn.preprocessing import MinMaxScaler"
   ]
  },
  {
   "cell_type": "code",
   "execution_count": 2,
   "id": "1878ecaa",
   "metadata": {},
   "outputs": [
    {
     "name": "stdout",
     "output_type": "stream",
     "text": [
      "<class 'pandas.core.frame.DataFrame'>\n",
      "RangeIndex: 100000 entries, 0 to 99999\n",
      "Data columns (total 28 columns):\n",
      " #   Column                    Non-Null Count   Dtype  \n",
      "---  ------                    --------------   -----  \n",
      " 0   ID                        100000 non-null  object \n",
      " 1   Customer_ID               100000 non-null  object \n",
      " 2   Month                     100000 non-null  object \n",
      " 3   Name                      90015 non-null   object \n",
      " 4   Age                       100000 non-null  object \n",
      " 5   SSN                       100000 non-null  object \n",
      " 6   Occupation                100000 non-null  object \n",
      " 7   Annual_Income             100000 non-null  object \n",
      " 8   Monthly_Inhand_Salary     84998 non-null   float64\n",
      " 9   Num_Bank_Accounts         100000 non-null  int64  \n",
      " 10  Num_Credit_Card           100000 non-null  int64  \n",
      " 11  Interest_Rate             100000 non-null  int64  \n",
      " 12  Num_of_Loan               100000 non-null  object \n",
      " 13  Type_of_Loan              88592 non-null   object \n",
      " 14  Delay_from_due_date       100000 non-null  int64  \n",
      " 15  Num_of_Delayed_Payment    92998 non-null   object \n",
      " 16  Changed_Credit_Limit      100000 non-null  object \n",
      " 17  Num_Credit_Inquiries      98035 non-null   float64\n",
      " 18  Credit_Mix                100000 non-null  object \n",
      " 19  Outstanding_Debt          100000 non-null  object \n",
      " 20  Credit_Utilization_Ratio  100000 non-null  float64\n",
      " 21  Credit_History_Age        90970 non-null   object \n",
      " 22  Payment_of_Min_Amount     100000 non-null  object \n",
      " 23  Total_EMI_per_month       100000 non-null  float64\n",
      " 24  Amount_invested_monthly   95521 non-null   object \n",
      " 25  Payment_Behaviour         100000 non-null  object \n",
      " 26  Monthly_Balance           98800 non-null   object \n",
      " 27  Credit_Score              100000 non-null  object \n",
      "dtypes: float64(4), int64(4), object(20)\n",
      "memory usage: 21.4+ MB\n"
     ]
    },
    {
     "name": "stderr",
     "output_type": "stream",
     "text": [
      "/tmp/ipykernel_327917/3200885717.py:1: DtypeWarning: Columns (26) have mixed types. Specify dtype option on import or set low_memory=False.\n",
      "  df = pd.read_csv(\"../data/raw/train.csv\")\n"
     ]
    }
   ],
   "source": [
    "df = pd.read_csv(\"../data/raw/train.csv\")\n",
    "df.info()"
   ]
  },
  {
   "cell_type": "code",
   "execution_count": 3,
   "id": "8d3bc40d",
   "metadata": {},
   "outputs": [
    {
     "data": {
      "application/vnd.microsoft.datawrangler.viewer.v0+json": {
       "columns": [
        {
         "name": "index",
         "rawType": "int64",
         "type": "integer"
        },
        {
         "name": "Age",
         "rawType": "object",
         "type": "string"
        },
        {
         "name": "Occupation",
         "rawType": "object",
         "type": "string"
        },
        {
         "name": "Annual_Income",
         "rawType": "object",
         "type": "string"
        },
        {
         "name": "Monthly_Inhand_Salary",
         "rawType": "float64",
         "type": "float"
        },
        {
         "name": "Num_Bank_Accounts",
         "rawType": "int64",
         "type": "integer"
        },
        {
         "name": "Num_Credit_Card",
         "rawType": "int64",
         "type": "integer"
        },
        {
         "name": "Num_of_Loan",
         "rawType": "object",
         "type": "string"
        },
        {
         "name": "Num_of_Delayed_Payment",
         "rawType": "object",
         "type": "unknown"
        },
        {
         "name": "Num_Credit_Inquiries",
         "rawType": "float64",
         "type": "float"
        },
        {
         "name": "Credit_Utilization_Ratio",
         "rawType": "float64",
         "type": "float"
        },
        {
         "name": "Total_EMI_per_month",
         "rawType": "float64",
         "type": "float"
        },
        {
         "name": "Amount_invested_monthly",
         "rawType": "object",
         "type": "string"
        },
        {
         "name": "Monthly_Balance",
         "rawType": "object",
         "type": "string"
        },
        {
         "name": "Credit_Score",
         "rawType": "object",
         "type": "string"
        }
       ],
       "ref": "d9624b6e-8c19-48da-98a3-61c7f84acf07",
       "rows": [
        [
         "0",
         "23",
         "Scientist",
         "19114.12",
         "1824.8433333333328",
         "3",
         "4",
         "4",
         "7",
         "4.0",
         "26.822619623699016",
         "49.57494921489417",
         "80.41529543900253",
         "312.49408867943663",
         "Good"
        ],
        [
         "1",
         "23",
         "Scientist",
         "19114.12",
         null,
         "3",
         "4",
         "4",
         null,
         "4.0",
         "31.94496005538421",
         "49.57494921489417",
         "118.28022162236736",
         "284.62916249607184",
         "Good"
        ],
        [
         "2",
         "-500",
         "Scientist",
         "19114.12",
         null,
         "3",
         "4",
         "4",
         "7",
         "4.0",
         "28.60935202206993",
         "49.57494921489417",
         "81.699521264648",
         "331.2098628537912",
         "Good"
        ],
        [
         "3",
         "23",
         "Scientist",
         "19114.12",
         null,
         "3",
         "4",
         "4",
         "4",
         "4.0",
         "31.377861869582357",
         "49.57494921489417",
         "199.4580743910713",
         "223.45130972736786",
         "Good"
        ],
        [
         "4",
         "23",
         "Scientist",
         "19114.12",
         "1824.8433333333328",
         "3",
         "4",
         "4",
         null,
         "4.0",
         "24.797346908844982",
         "49.57494921489417",
         "41.420153086217326",
         "341.48923103222177",
         "Good"
        ]
       ],
       "shape": {
        "columns": 14,
        "rows": 5
       }
      },
      "text/html": [
       "<div>\n",
       "<style scoped>\n",
       "    .dataframe tbody tr th:only-of-type {\n",
       "        vertical-align: middle;\n",
       "    }\n",
       "\n",
       "    .dataframe tbody tr th {\n",
       "        vertical-align: top;\n",
       "    }\n",
       "\n",
       "    .dataframe thead th {\n",
       "        text-align: right;\n",
       "    }\n",
       "</style>\n",
       "<table border=\"1\" class=\"dataframe\">\n",
       "  <thead>\n",
       "    <tr style=\"text-align: right;\">\n",
       "      <th></th>\n",
       "      <th>Age</th>\n",
       "      <th>Occupation</th>\n",
       "      <th>Annual_Income</th>\n",
       "      <th>Monthly_Inhand_Salary</th>\n",
       "      <th>Num_Bank_Accounts</th>\n",
       "      <th>Num_Credit_Card</th>\n",
       "      <th>Num_of_Loan</th>\n",
       "      <th>Num_of_Delayed_Payment</th>\n",
       "      <th>Num_Credit_Inquiries</th>\n",
       "      <th>Credit_Utilization_Ratio</th>\n",
       "      <th>Total_EMI_per_month</th>\n",
       "      <th>Amount_invested_monthly</th>\n",
       "      <th>Monthly_Balance</th>\n",
       "      <th>Credit_Score</th>\n",
       "    </tr>\n",
       "  </thead>\n",
       "  <tbody>\n",
       "    <tr>\n",
       "      <th>0</th>\n",
       "      <td>23</td>\n",
       "      <td>Scientist</td>\n",
       "      <td>19114.12</td>\n",
       "      <td>1824.843333</td>\n",
       "      <td>3</td>\n",
       "      <td>4</td>\n",
       "      <td>4</td>\n",
       "      <td>7</td>\n",
       "      <td>4.0</td>\n",
       "      <td>26.822620</td>\n",
       "      <td>49.574949</td>\n",
       "      <td>80.41529543900253</td>\n",
       "      <td>312.49408867943663</td>\n",
       "      <td>Good</td>\n",
       "    </tr>\n",
       "    <tr>\n",
       "      <th>1</th>\n",
       "      <td>23</td>\n",
       "      <td>Scientist</td>\n",
       "      <td>19114.12</td>\n",
       "      <td>NaN</td>\n",
       "      <td>3</td>\n",
       "      <td>4</td>\n",
       "      <td>4</td>\n",
       "      <td>NaN</td>\n",
       "      <td>4.0</td>\n",
       "      <td>31.944960</td>\n",
       "      <td>49.574949</td>\n",
       "      <td>118.28022162236736</td>\n",
       "      <td>284.62916249607184</td>\n",
       "      <td>Good</td>\n",
       "    </tr>\n",
       "    <tr>\n",
       "      <th>2</th>\n",
       "      <td>-500</td>\n",
       "      <td>Scientist</td>\n",
       "      <td>19114.12</td>\n",
       "      <td>NaN</td>\n",
       "      <td>3</td>\n",
       "      <td>4</td>\n",
       "      <td>4</td>\n",
       "      <td>7</td>\n",
       "      <td>4.0</td>\n",
       "      <td>28.609352</td>\n",
       "      <td>49.574949</td>\n",
       "      <td>81.699521264648</td>\n",
       "      <td>331.2098628537912</td>\n",
       "      <td>Good</td>\n",
       "    </tr>\n",
       "    <tr>\n",
       "      <th>3</th>\n",
       "      <td>23</td>\n",
       "      <td>Scientist</td>\n",
       "      <td>19114.12</td>\n",
       "      <td>NaN</td>\n",
       "      <td>3</td>\n",
       "      <td>4</td>\n",
       "      <td>4</td>\n",
       "      <td>4</td>\n",
       "      <td>4.0</td>\n",
       "      <td>31.377862</td>\n",
       "      <td>49.574949</td>\n",
       "      <td>199.4580743910713</td>\n",
       "      <td>223.45130972736786</td>\n",
       "      <td>Good</td>\n",
       "    </tr>\n",
       "    <tr>\n",
       "      <th>4</th>\n",
       "      <td>23</td>\n",
       "      <td>Scientist</td>\n",
       "      <td>19114.12</td>\n",
       "      <td>1824.843333</td>\n",
       "      <td>3</td>\n",
       "      <td>4</td>\n",
       "      <td>4</td>\n",
       "      <td>NaN</td>\n",
       "      <td>4.0</td>\n",
       "      <td>24.797347</td>\n",
       "      <td>49.574949</td>\n",
       "      <td>41.420153086217326</td>\n",
       "      <td>341.48923103222177</td>\n",
       "      <td>Good</td>\n",
       "    </tr>\n",
       "  </tbody>\n",
       "</table>\n",
       "</div>"
      ],
      "text/plain": [
       "    Age Occupation Annual_Income  Monthly_Inhand_Salary  Num_Bank_Accounts  \\\n",
       "0    23  Scientist      19114.12            1824.843333                  3   \n",
       "1    23  Scientist      19114.12                    NaN                  3   \n",
       "2  -500  Scientist      19114.12                    NaN                  3   \n",
       "3    23  Scientist      19114.12                    NaN                  3   \n",
       "4    23  Scientist      19114.12            1824.843333                  3   \n",
       "\n",
       "   Num_Credit_Card Num_of_Loan Num_of_Delayed_Payment  Num_Credit_Inquiries  \\\n",
       "0                4           4                      7                   4.0   \n",
       "1                4           4                    NaN                   4.0   \n",
       "2                4           4                      7                   4.0   \n",
       "3                4           4                      4                   4.0   \n",
       "4                4           4                    NaN                   4.0   \n",
       "\n",
       "   Credit_Utilization_Ratio  Total_EMI_per_month Amount_invested_monthly  \\\n",
       "0                 26.822620            49.574949       80.41529543900253   \n",
       "1                 31.944960            49.574949      118.28022162236736   \n",
       "2                 28.609352            49.574949         81.699521264648   \n",
       "3                 31.377862            49.574949       199.4580743910713   \n",
       "4                 24.797347            49.574949      41.420153086217326   \n",
       "\n",
       "      Monthly_Balance Credit_Score  \n",
       "0  312.49408867943663         Good  \n",
       "1  284.62916249607184         Good  \n",
       "2   331.2098628537912         Good  \n",
       "3  223.45130972736786         Good  \n",
       "4  341.48923103222177         Good  "
      ]
     },
     "execution_count": 3,
     "metadata": {},
     "output_type": "execute_result"
    }
   ],
   "source": [
    "df = df.drop(columns=['ID','Customer_ID','Name','Month','SSN','Interest_Rate','Type_of_Loan','Payment_of_Min_Amount','Payment_Behaviour','Changed_Credit_Limit','Credit_Mix','Credit_History_Age','Delay_from_due_date','Outstanding_Debt'])\n",
    "df.head()"
   ]
  },
  {
   "cell_type": "code",
   "execution_count": 4,
   "id": "a1ac90d4",
   "metadata": {},
   "outputs": [],
   "source": [
    "df = df.dropna(axis=0, how='any')"
   ]
  },
  {
   "cell_type": "code",
   "execution_count": 5,
   "id": "47d13c2b",
   "metadata": {},
   "outputs": [
    {
     "name": "stdout",
     "output_type": "stream",
     "text": [
      "<class 'pandas.core.frame.DataFrame'>\n",
      "Index: 73156 entries, 0 to 99999\n",
      "Data columns (total 14 columns):\n",
      " #   Column                    Non-Null Count  Dtype  \n",
      "---  ------                    --------------  -----  \n",
      " 0   Age                       73156 non-null  object \n",
      " 1   Occupation                73156 non-null  object \n",
      " 2   Annual_Income             73156 non-null  object \n",
      " 3   Monthly_Inhand_Salary     73156 non-null  float64\n",
      " 4   Num_Bank_Accounts         73156 non-null  int64  \n",
      " 5   Num_Credit_Card           73156 non-null  int64  \n",
      " 6   Num_of_Loan               73156 non-null  object \n",
      " 7   Num_of_Delayed_Payment    73156 non-null  object \n",
      " 8   Num_Credit_Inquiries      73156 non-null  float64\n",
      " 9   Credit_Utilization_Ratio  73156 non-null  float64\n",
      " 10  Total_EMI_per_month       73156 non-null  float64\n",
      " 11  Amount_invested_monthly   73156 non-null  object \n",
      " 12  Monthly_Balance           73156 non-null  object \n",
      " 13  Credit_Score              73156 non-null  object \n",
      "dtypes: float64(4), int64(2), object(8)\n",
      "memory usage: 8.4+ MB\n"
     ]
    }
   ],
   "source": [
    "df.info()"
   ]
  },
  {
   "cell_type": "markdown",
   "id": "375eb8dd",
   "metadata": {},
   "source": [
    "## Limpeza dos dados"
   ]
  },
  {
   "cell_type": "code",
   "execution_count": 6,
   "id": "0c95d4af",
   "metadata": {},
   "outputs": [],
   "source": [
    "#Funcao para remover caracteres indesejados e converter colunas para float\n",
    "def limpar_e_converter_colunas(df: pd.DataFrame, colunas: list) -> pd.DataFrame:\n",
    "    \n",
    "    for coluna in colunas:\n",
    "        # Remove caracteres indesejados, mantendo apenas dígitos, ponto e vírgula\n",
    "        df[coluna] = df[coluna].astype(str).apply(lambda x: re.sub(r'[^0-9.,]', '', x))\n",
    "        \n",
    "        # Substitui vírgula por ponto e converte para float\n",
    "        df[coluna] = df[coluna].str.replace(',', '.', regex=False).astype(float).round(2)\n",
    "    \n",
    "    return df"
   ]
  },
  {
   "cell_type": "code",
   "execution_count": 7,
   "id": "bf631f59",
   "metadata": {},
   "outputs": [],
   "source": [
    "df = limpar_e_converter_colunas(df, ['Age', 'Annual_Income', 'Monthly_Inhand_Salary', 'Num_Bank_Accounts', 'Num_Credit_Card','Num_of_Loan','Num_of_Delayed_Payment','Num_Credit_Inquiries','Credit_Utilization_Ratio','Total_EMI_per_month','Amount_invested_monthly','Monthly_Balance'])"
   ]
  },
  {
   "cell_type": "code",
   "execution_count": 8,
   "id": "aceb4b6e",
   "metadata": {},
   "outputs": [
    {
     "name": "stdout",
     "output_type": "stream",
     "text": [
      "<class 'pandas.core.frame.DataFrame'>\n",
      "Index: 73156 entries, 0 to 99999\n",
      "Data columns (total 14 columns):\n",
      " #   Column                    Non-Null Count  Dtype  \n",
      "---  ------                    --------------  -----  \n",
      " 0   Age                       73156 non-null  float64\n",
      " 1   Occupation                73156 non-null  object \n",
      " 2   Annual_Income             73156 non-null  float64\n",
      " 3   Monthly_Inhand_Salary     73156 non-null  float64\n",
      " 4   Num_Bank_Accounts         73156 non-null  float64\n",
      " 5   Num_Credit_Card           73156 non-null  float64\n",
      " 6   Num_of_Loan               73156 non-null  float64\n",
      " 7   Num_of_Delayed_Payment    73156 non-null  float64\n",
      " 8   Num_Credit_Inquiries      73156 non-null  float64\n",
      " 9   Credit_Utilization_Ratio  73156 non-null  float64\n",
      " 10  Total_EMI_per_month       73156 non-null  float64\n",
      " 11  Amount_invested_monthly   73156 non-null  float64\n",
      " 12  Monthly_Balance           73156 non-null  float64\n",
      " 13  Credit_Score              73156 non-null  object \n",
      "dtypes: float64(12), object(2)\n",
      "memory usage: 8.4+ MB\n"
     ]
    }
   ],
   "source": [
    "df.info()"
   ]
  },
  {
   "cell_type": "code",
   "execution_count": 9,
   "id": "6273eda5",
   "metadata": {},
   "outputs": [],
   "source": [
    "df['Occupation'] = df['Occupation'].replace('_______', 'Não informado')"
   ]
  },
  {
   "cell_type": "code",
   "execution_count": 10,
   "id": "be450070",
   "metadata": {},
   "outputs": [
    {
     "data": {
      "application/vnd.microsoft.datawrangler.viewer.v0+json": {
       "columns": [
        {
         "name": "Occupation",
         "rawType": "object",
         "type": "string"
        },
        {
         "name": "count",
         "rawType": "int64",
         "type": "integer"
        }
       ],
       "ref": "4fb6beec-0e31-40c9-8360-061793eeef04",
       "rows": [
        [
         "Não informado",
         "5158"
        ],
        [
         "Lawyer",
         "4867"
        ],
        [
         "Engineer",
         "4650"
        ],
        [
         "Mechanic",
         "4627"
        ],
        [
         "Architect",
         "4605"
        ],
        [
         "Accountant",
         "4571"
        ],
        [
         "Developer",
         "4563"
        ],
        [
         "Media_Manager",
         "4553"
        ],
        [
         "Teacher",
         "4545"
        ],
        [
         "Scientist",
         "4524"
        ],
        [
         "Doctor",
         "4523"
        ],
        [
         "Entrepreneur",
         "4494"
        ],
        [
         "Journalist",
         "4442"
        ],
        [
         "Musician",
         "4373"
        ],
        [
         "Manager",
         "4350"
        ],
        [
         "Writer",
         "4311"
        ]
       ],
       "shape": {
        "columns": 1,
        "rows": 16
       }
      },
      "text/plain": [
       "Occupation\n",
       "Não informado    5158\n",
       "Lawyer           4867\n",
       "Engineer         4650\n",
       "Mechanic         4627\n",
       "Architect        4605\n",
       "Accountant       4571\n",
       "Developer        4563\n",
       "Media_Manager    4553\n",
       "Teacher          4545\n",
       "Scientist        4524\n",
       "Doctor           4523\n",
       "Entrepreneur     4494\n",
       "Journalist       4442\n",
       "Musician         4373\n",
       "Manager          4350\n",
       "Writer           4311\n",
       "Name: count, dtype: int64"
      ]
     },
     "execution_count": 10,
     "metadata": {},
     "output_type": "execute_result"
    }
   ],
   "source": [
    "df['Occupation'].value_counts()"
   ]
  },
  {
   "cell_type": "code",
   "execution_count": 11,
   "id": "4d2dec07",
   "metadata": {},
   "outputs": [],
   "source": [
    "def maper_colunas(df: pd.DataFrame, coluna: str, mapa: dict):\n",
    "    df[coluna] = df[coluna].map(mapa).fillna(df[coluna])  # Mantém valores não mapeados\n",
    "    return df\n",
    "\n",
    "mapeamento = {'Não informado': 0, 'Lawyer': 1,'Engineer':2, 'Mechanic':3, 'Architect':4, 'Accountant':5, 'Developer':6, 'Media_Manager':7, 'Teacher':8, 'Scientist':9, 'Doctor':10,\n",
    "               'Entrepreneur':11,'Journalist':12,'Musician':13,'Manager':14,'Writer':15}\n",
    "\n",
    "df = maper_colunas(df, 'Occupation', mapeamento)"
   ]
  },
  {
   "cell_type": "code",
   "execution_count": 12,
   "id": "d6f4b8d4",
   "metadata": {},
   "outputs": [
    {
     "name": "stdout",
     "output_type": "stream",
     "text": [
      "<class 'pandas.core.frame.DataFrame'>\n",
      "Index: 73156 entries, 0 to 99999\n",
      "Data columns (total 14 columns):\n",
      " #   Column                    Non-Null Count  Dtype  \n",
      "---  ------                    --------------  -----  \n",
      " 0   Age                       73156 non-null  float64\n",
      " 1   Occupation                73156 non-null  int64  \n",
      " 2   Annual_Income             73156 non-null  float64\n",
      " 3   Monthly_Inhand_Salary     73156 non-null  float64\n",
      " 4   Num_Bank_Accounts         73156 non-null  float64\n",
      " 5   Num_Credit_Card           73156 non-null  float64\n",
      " 6   Num_of_Loan               73156 non-null  float64\n",
      " 7   Num_of_Delayed_Payment    73156 non-null  float64\n",
      " 8   Num_Credit_Inquiries      73156 non-null  float64\n",
      " 9   Credit_Utilization_Ratio  73156 non-null  float64\n",
      " 10  Total_EMI_per_month       73156 non-null  float64\n",
      " 11  Amount_invested_monthly   73156 non-null  float64\n",
      " 12  Monthly_Balance           73156 non-null  float64\n",
      " 13  Credit_Score              73156 non-null  object \n",
      "dtypes: float64(12), int64(1), object(1)\n",
      "memory usage: 8.4+ MB\n"
     ]
    }
   ],
   "source": [
    "\n",
    "df.info()"
   ]
  },
  {
   "cell_type": "code",
   "execution_count": 14,
   "id": "46c0ad7c",
   "metadata": {},
   "outputs": [],
   "source": [
    "scaler = MinMaxScaler()\n",
    "\n",
    "\n",
    "colunas_para_normalizar = df.select_dtypes(include='number').columns.difference(['Credit_Score'])\n",
    "\n",
    "\n",
    "# Aplicar o scaler\n",
    "df[colunas_para_normalizar] = scaler.fit_transform(df[colunas_para_normalizar])"
   ]
  },
  {
   "cell_type": "code",
   "execution_count": 16,
   "id": "14ed6d72",
   "metadata": {},
   "outputs": [
    {
     "data": {
      "application/vnd.microsoft.datawrangler.viewer.v0+json": {
       "columns": [
        {
         "name": "index",
         "rawType": "int64",
         "type": "integer"
        },
        {
         "name": "Age",
         "rawType": "float64",
         "type": "float"
        },
        {
         "name": "Occupation",
         "rawType": "float64",
         "type": "float"
        },
        {
         "name": "Annual_Income",
         "rawType": "float64",
         "type": "float"
        },
        {
         "name": "Monthly_Inhand_Salary",
         "rawType": "float64",
         "type": "float"
        },
        {
         "name": "Num_Bank_Accounts",
         "rawType": "float64",
         "type": "float"
        },
        {
         "name": "Num_Credit_Card",
         "rawType": "float64",
         "type": "float"
        },
        {
         "name": "Num_of_Loan",
         "rawType": "float64",
         "type": "float"
        },
        {
         "name": "Num_of_Delayed_Payment",
         "rawType": "float64",
         "type": "float"
        },
        {
         "name": "Num_Credit_Inquiries",
         "rawType": "float64",
         "type": "float"
        },
        {
         "name": "Credit_Utilization_Ratio",
         "rawType": "float64",
         "type": "float"
        },
        {
         "name": "Total_EMI_per_month",
         "rawType": "float64",
         "type": "float"
        },
        {
         "name": "Amount_invested_monthly",
         "rawType": "float64",
         "type": "float"
        },
        {
         "name": "Monthly_Balance",
         "rawType": "float64",
         "type": "float"
        },
        {
         "name": "Credit_Score",
         "rawType": "object",
         "type": "string"
        }
       ],
       "ref": "34dc2d86-beb5-4f8f-a15e-2577957496f2",
       "rows": [
        [
         "0",
         "0.0010363887609396594",
         "0.6",
         "0.0005005234151400154",
         "0.10208657417163167",
         "0.001668520578420467",
         "0.00266844563042028",
         "0.0026755852842809363",
         "0.0015919945417329998",
         "0.0015402387370042356",
         "0.20398351648351654",
         "0.000602081840376043",
         "0.008042",
         "9.3708e-25",
         "Good"
        ],
        [
         "6",
         "0.0010363887609396594",
         "0.6",
         "0.0005005234151400154",
         "0.10208657417163167",
         "0.001668520578420467",
         "0.00266844563042028",
         "0.0026755852842809363",
         "0.0018194223334091425",
         "0.0015402387370042356",
         "0.057005494505494525",
         "0.000602081840376043",
         "0.017834000000000003",
         "7.3332e-25",
         "Good"
        ],
        [
         "7",
         "0.0010363887609396594",
         "0.6",
         "0.0005005234151400154",
         "0.10208657417163167",
         "0.001668520578420467",
         "0.00266844563042028",
         "0.0026755852842809363",
         "0.001364566750056857",
         "0.0015402387370042356",
         "0.10473901098901095",
         "0.000602081840376043",
         "0.002479",
         "1.0739699999999999e-24",
         "Standard"
        ],
        [
         "8",
         "0.0016121602947950253",
         "0.0",
         "0.0011509175093239324",
         "0.18350068250544596",
         "0.0011123470522803114",
         "0.00266844563042028",
         "0.0006688963210702341",
         "0.0009097111667045713",
         "0.0007701193685021178",
         "0.12293956043956045",
         "0.00022858947419562498",
         "0.010429",
         "1.4116799999999999e-24",
         "Standard"
        ],
        [
         "9",
         "0.0016121602947950253",
         "0.5333333333333333",
         "0.0011509175093239324",
         "0.18350068250544596",
         "0.0011123470522803114",
         "0.00266844563042028",
         "0.0006688963210702341",
         "0.00022742779167614282",
         "0.0007701193685021178",
         "0.6067994505494505",
         "0.00022858947419562498",
         "0.004039",
         "1.4533799999999999e-24",
         "Good"
        ]
       ],
       "shape": {
        "columns": 14,
        "rows": 5
       }
      },
      "text/html": [
       "<div>\n",
       "<style scoped>\n",
       "    .dataframe tbody tr th:only-of-type {\n",
       "        vertical-align: middle;\n",
       "    }\n",
       "\n",
       "    .dataframe tbody tr th {\n",
       "        vertical-align: top;\n",
       "    }\n",
       "\n",
       "    .dataframe thead th {\n",
       "        text-align: right;\n",
       "    }\n",
       "</style>\n",
       "<table border=\"1\" class=\"dataframe\">\n",
       "  <thead>\n",
       "    <tr style=\"text-align: right;\">\n",
       "      <th></th>\n",
       "      <th>Age</th>\n",
       "      <th>Occupation</th>\n",
       "      <th>Annual_Income</th>\n",
       "      <th>Monthly_Inhand_Salary</th>\n",
       "      <th>Num_Bank_Accounts</th>\n",
       "      <th>Num_Credit_Card</th>\n",
       "      <th>Num_of_Loan</th>\n",
       "      <th>Num_of_Delayed_Payment</th>\n",
       "      <th>Num_Credit_Inquiries</th>\n",
       "      <th>Credit_Utilization_Ratio</th>\n",
       "      <th>Total_EMI_per_month</th>\n",
       "      <th>Amount_invested_monthly</th>\n",
       "      <th>Monthly_Balance</th>\n",
       "      <th>Credit_Score</th>\n",
       "    </tr>\n",
       "  </thead>\n",
       "  <tbody>\n",
       "    <tr>\n",
       "      <th>0</th>\n",
       "      <td>0.001036</td>\n",
       "      <td>0.600000</td>\n",
       "      <td>0.000501</td>\n",
       "      <td>0.102087</td>\n",
       "      <td>0.001669</td>\n",
       "      <td>0.002668</td>\n",
       "      <td>0.002676</td>\n",
       "      <td>0.001592</td>\n",
       "      <td>0.00154</td>\n",
       "      <td>0.203984</td>\n",
       "      <td>0.000602</td>\n",
       "      <td>0.008042</td>\n",
       "      <td>9.370800e-25</td>\n",
       "      <td>Good</td>\n",
       "    </tr>\n",
       "    <tr>\n",
       "      <th>6</th>\n",
       "      <td>0.001036</td>\n",
       "      <td>0.600000</td>\n",
       "      <td>0.000501</td>\n",
       "      <td>0.102087</td>\n",
       "      <td>0.001669</td>\n",
       "      <td>0.002668</td>\n",
       "      <td>0.002676</td>\n",
       "      <td>0.001819</td>\n",
       "      <td>0.00154</td>\n",
       "      <td>0.057005</td>\n",
       "      <td>0.000602</td>\n",
       "      <td>0.017834</td>\n",
       "      <td>7.333200e-25</td>\n",
       "      <td>Good</td>\n",
       "    </tr>\n",
       "    <tr>\n",
       "      <th>7</th>\n",
       "      <td>0.001036</td>\n",
       "      <td>0.600000</td>\n",
       "      <td>0.000501</td>\n",
       "      <td>0.102087</td>\n",
       "      <td>0.001669</td>\n",
       "      <td>0.002668</td>\n",
       "      <td>0.002676</td>\n",
       "      <td>0.001365</td>\n",
       "      <td>0.00154</td>\n",
       "      <td>0.104739</td>\n",
       "      <td>0.000602</td>\n",
       "      <td>0.002479</td>\n",
       "      <td>1.073970e-24</td>\n",
       "      <td>Standard</td>\n",
       "    </tr>\n",
       "    <tr>\n",
       "      <th>8</th>\n",
       "      <td>0.001612</td>\n",
       "      <td>0.000000</td>\n",
       "      <td>0.001151</td>\n",
       "      <td>0.183501</td>\n",
       "      <td>0.001112</td>\n",
       "      <td>0.002668</td>\n",
       "      <td>0.000669</td>\n",
       "      <td>0.000910</td>\n",
       "      <td>0.00077</td>\n",
       "      <td>0.122940</td>\n",
       "      <td>0.000229</td>\n",
       "      <td>0.010429</td>\n",
       "      <td>1.411680e-24</td>\n",
       "      <td>Standard</td>\n",
       "    </tr>\n",
       "    <tr>\n",
       "      <th>9</th>\n",
       "      <td>0.001612</td>\n",
       "      <td>0.533333</td>\n",
       "      <td>0.001151</td>\n",
       "      <td>0.183501</td>\n",
       "      <td>0.001112</td>\n",
       "      <td>0.002668</td>\n",
       "      <td>0.000669</td>\n",
       "      <td>0.000227</td>\n",
       "      <td>0.00077</td>\n",
       "      <td>0.606799</td>\n",
       "      <td>0.000229</td>\n",
       "      <td>0.004039</td>\n",
       "      <td>1.453380e-24</td>\n",
       "      <td>Good</td>\n",
       "    </tr>\n",
       "  </tbody>\n",
       "</table>\n",
       "</div>"
      ],
      "text/plain": [
       "        Age  Occupation  Annual_Income  Monthly_Inhand_Salary  \\\n",
       "0  0.001036    0.600000       0.000501               0.102087   \n",
       "6  0.001036    0.600000       0.000501               0.102087   \n",
       "7  0.001036    0.600000       0.000501               0.102087   \n",
       "8  0.001612    0.000000       0.001151               0.183501   \n",
       "9  0.001612    0.533333       0.001151               0.183501   \n",
       "\n",
       "   Num_Bank_Accounts  Num_Credit_Card  Num_of_Loan  Num_of_Delayed_Payment  \\\n",
       "0           0.001669         0.002668     0.002676                0.001592   \n",
       "6           0.001669         0.002668     0.002676                0.001819   \n",
       "7           0.001669         0.002668     0.002676                0.001365   \n",
       "8           0.001112         0.002668     0.000669                0.000910   \n",
       "9           0.001112         0.002668     0.000669                0.000227   \n",
       "\n",
       "   Num_Credit_Inquiries  Credit_Utilization_Ratio  Total_EMI_per_month  \\\n",
       "0               0.00154                  0.203984             0.000602   \n",
       "6               0.00154                  0.057005             0.000602   \n",
       "7               0.00154                  0.104739             0.000602   \n",
       "8               0.00077                  0.122940             0.000229   \n",
       "9               0.00077                  0.606799             0.000229   \n",
       "\n",
       "   Amount_invested_monthly  Monthly_Balance Credit_Score  \n",
       "0                 0.008042     9.370800e-25         Good  \n",
       "6                 0.017834     7.333200e-25         Good  \n",
       "7                 0.002479     1.073970e-24     Standard  \n",
       "8                 0.010429     1.411680e-24     Standard  \n",
       "9                 0.004039     1.453380e-24         Good  "
      ]
     },
     "execution_count": 16,
     "metadata": {},
     "output_type": "execute_result"
    }
   ],
   "source": [
    "df.head()"
   ]
  },
  {
   "cell_type": "code",
   "execution_count": 18,
   "id": "69dafae8",
   "metadata": {},
   "outputs": [],
   "source": [
    "mapa_credit_mix = {\n",
    "    'Poor': 0,\n",
    "    'Standard': 1,\n",
    "    'Good': 2\n",
    "}\n",
    "df['Credit_Score'] = df['Credit_Score'].map(mapa_credit_mix)\n"
   ]
  },
  {
   "cell_type": "code",
   "execution_count": 19,
   "id": "ee777eeb",
   "metadata": {},
   "outputs": [
    {
     "data": {
      "application/vnd.microsoft.datawrangler.viewer.v0+json": {
       "columns": [
        {
         "name": "index",
         "rawType": "int64",
         "type": "integer"
        },
        {
         "name": "Age",
         "rawType": "float64",
         "type": "float"
        },
        {
         "name": "Occupation",
         "rawType": "float64",
         "type": "float"
        },
        {
         "name": "Annual_Income",
         "rawType": "float64",
         "type": "float"
        },
        {
         "name": "Monthly_Inhand_Salary",
         "rawType": "float64",
         "type": "float"
        },
        {
         "name": "Num_Bank_Accounts",
         "rawType": "float64",
         "type": "float"
        },
        {
         "name": "Num_Credit_Card",
         "rawType": "float64",
         "type": "float"
        },
        {
         "name": "Num_of_Loan",
         "rawType": "float64",
         "type": "float"
        },
        {
         "name": "Num_of_Delayed_Payment",
         "rawType": "float64",
         "type": "float"
        },
        {
         "name": "Num_Credit_Inquiries",
         "rawType": "float64",
         "type": "float"
        },
        {
         "name": "Credit_Utilization_Ratio",
         "rawType": "float64",
         "type": "float"
        },
        {
         "name": "Total_EMI_per_month",
         "rawType": "float64",
         "type": "float"
        },
        {
         "name": "Amount_invested_monthly",
         "rawType": "float64",
         "type": "float"
        },
        {
         "name": "Monthly_Balance",
         "rawType": "float64",
         "type": "float"
        },
        {
         "name": "Credit_Score",
         "rawType": "int64",
         "type": "integer"
        }
       ],
       "ref": "451c0d9a-c32b-48da-9d53-6be4df620cfa",
       "rows": [
        [
         "0",
         "0.0010363887609396594",
         "0.6",
         "0.0005005234151400154",
         "0.10208657417163167",
         "0.001668520578420467",
         "0.00266844563042028",
         "0.0026755852842809363",
         "0.0015919945417329998",
         "0.0015402387370042356",
         "0.20398351648351654",
         "0.000602081840376043",
         "0.008042",
         "9.3708e-25",
         "2"
        ],
        [
         "6",
         "0.0010363887609396594",
         "0.6",
         "0.0005005234151400154",
         "0.10208657417163167",
         "0.001668520578420467",
         "0.00266844563042028",
         "0.0026755852842809363",
         "0.0018194223334091425",
         "0.0015402387370042356",
         "0.057005494505494525",
         "0.000602081840376043",
         "0.017834000000000003",
         "7.3332e-25",
         "2"
        ],
        [
         "7",
         "0.0010363887609396594",
         "0.6",
         "0.0005005234151400154",
         "0.10208657417163167",
         "0.001668520578420467",
         "0.00266844563042028",
         "0.0026755852842809363",
         "0.001364566750056857",
         "0.0015402387370042356",
         "0.10473901098901095",
         "0.000602081840376043",
         "0.002479",
         "1.0739699999999999e-24",
         "1"
        ],
        [
         "8",
         "0.0016121602947950253",
         "0.0",
         "0.0011509175093239324",
         "0.18350068250544596",
         "0.0011123470522803114",
         "0.00266844563042028",
         "0.0006688963210702341",
         "0.0009097111667045713",
         "0.0007701193685021178",
         "0.12293956043956045",
         "0.00022858947419562498",
         "0.010429",
         "1.4116799999999999e-24",
         "1"
        ],
        [
         "9",
         "0.0016121602947950253",
         "0.5333333333333333",
         "0.0011509175093239324",
         "0.18350068250544596",
         "0.0011123470522803114",
         "0.00266844563042028",
         "0.0006688963210702341",
         "0.00022742779167614282",
         "0.0007701193685021178",
         "0.6067994505494505",
         "0.00022858947419562498",
         "0.004039",
         "1.4533799999999999e-24",
         "2"
        ]
       ],
       "shape": {
        "columns": 14,
        "rows": 5
       }
      },
      "text/html": [
       "<div>\n",
       "<style scoped>\n",
       "    .dataframe tbody tr th:only-of-type {\n",
       "        vertical-align: middle;\n",
       "    }\n",
       "\n",
       "    .dataframe tbody tr th {\n",
       "        vertical-align: top;\n",
       "    }\n",
       "\n",
       "    .dataframe thead th {\n",
       "        text-align: right;\n",
       "    }\n",
       "</style>\n",
       "<table border=\"1\" class=\"dataframe\">\n",
       "  <thead>\n",
       "    <tr style=\"text-align: right;\">\n",
       "      <th></th>\n",
       "      <th>Age</th>\n",
       "      <th>Occupation</th>\n",
       "      <th>Annual_Income</th>\n",
       "      <th>Monthly_Inhand_Salary</th>\n",
       "      <th>Num_Bank_Accounts</th>\n",
       "      <th>Num_Credit_Card</th>\n",
       "      <th>Num_of_Loan</th>\n",
       "      <th>Num_of_Delayed_Payment</th>\n",
       "      <th>Num_Credit_Inquiries</th>\n",
       "      <th>Credit_Utilization_Ratio</th>\n",
       "      <th>Total_EMI_per_month</th>\n",
       "      <th>Amount_invested_monthly</th>\n",
       "      <th>Monthly_Balance</th>\n",
       "      <th>Credit_Score</th>\n",
       "    </tr>\n",
       "  </thead>\n",
       "  <tbody>\n",
       "    <tr>\n",
       "      <th>0</th>\n",
       "      <td>0.001036</td>\n",
       "      <td>0.600000</td>\n",
       "      <td>0.000501</td>\n",
       "      <td>0.102087</td>\n",
       "      <td>0.001669</td>\n",
       "      <td>0.002668</td>\n",
       "      <td>0.002676</td>\n",
       "      <td>0.001592</td>\n",
       "      <td>0.00154</td>\n",
       "      <td>0.203984</td>\n",
       "      <td>0.000602</td>\n",
       "      <td>0.008042</td>\n",
       "      <td>9.370800e-25</td>\n",
       "      <td>2</td>\n",
       "    </tr>\n",
       "    <tr>\n",
       "      <th>6</th>\n",
       "      <td>0.001036</td>\n",
       "      <td>0.600000</td>\n",
       "      <td>0.000501</td>\n",
       "      <td>0.102087</td>\n",
       "      <td>0.001669</td>\n",
       "      <td>0.002668</td>\n",
       "      <td>0.002676</td>\n",
       "      <td>0.001819</td>\n",
       "      <td>0.00154</td>\n",
       "      <td>0.057005</td>\n",
       "      <td>0.000602</td>\n",
       "      <td>0.017834</td>\n",
       "      <td>7.333200e-25</td>\n",
       "      <td>2</td>\n",
       "    </tr>\n",
       "    <tr>\n",
       "      <th>7</th>\n",
       "      <td>0.001036</td>\n",
       "      <td>0.600000</td>\n",
       "      <td>0.000501</td>\n",
       "      <td>0.102087</td>\n",
       "      <td>0.001669</td>\n",
       "      <td>0.002668</td>\n",
       "      <td>0.002676</td>\n",
       "      <td>0.001365</td>\n",
       "      <td>0.00154</td>\n",
       "      <td>0.104739</td>\n",
       "      <td>0.000602</td>\n",
       "      <td>0.002479</td>\n",
       "      <td>1.073970e-24</td>\n",
       "      <td>1</td>\n",
       "    </tr>\n",
       "    <tr>\n",
       "      <th>8</th>\n",
       "      <td>0.001612</td>\n",
       "      <td>0.000000</td>\n",
       "      <td>0.001151</td>\n",
       "      <td>0.183501</td>\n",
       "      <td>0.001112</td>\n",
       "      <td>0.002668</td>\n",
       "      <td>0.000669</td>\n",
       "      <td>0.000910</td>\n",
       "      <td>0.00077</td>\n",
       "      <td>0.122940</td>\n",
       "      <td>0.000229</td>\n",
       "      <td>0.010429</td>\n",
       "      <td>1.411680e-24</td>\n",
       "      <td>1</td>\n",
       "    </tr>\n",
       "    <tr>\n",
       "      <th>9</th>\n",
       "      <td>0.001612</td>\n",
       "      <td>0.533333</td>\n",
       "      <td>0.001151</td>\n",
       "      <td>0.183501</td>\n",
       "      <td>0.001112</td>\n",
       "      <td>0.002668</td>\n",
       "      <td>0.000669</td>\n",
       "      <td>0.000227</td>\n",
       "      <td>0.00077</td>\n",
       "      <td>0.606799</td>\n",
       "      <td>0.000229</td>\n",
       "      <td>0.004039</td>\n",
       "      <td>1.453380e-24</td>\n",
       "      <td>2</td>\n",
       "    </tr>\n",
       "  </tbody>\n",
       "</table>\n",
       "</div>"
      ],
      "text/plain": [
       "        Age  Occupation  Annual_Income  Monthly_Inhand_Salary  \\\n",
       "0  0.001036    0.600000       0.000501               0.102087   \n",
       "6  0.001036    0.600000       0.000501               0.102087   \n",
       "7  0.001036    0.600000       0.000501               0.102087   \n",
       "8  0.001612    0.000000       0.001151               0.183501   \n",
       "9  0.001612    0.533333       0.001151               0.183501   \n",
       "\n",
       "   Num_Bank_Accounts  Num_Credit_Card  Num_of_Loan  Num_of_Delayed_Payment  \\\n",
       "0           0.001669         0.002668     0.002676                0.001592   \n",
       "6           0.001669         0.002668     0.002676                0.001819   \n",
       "7           0.001669         0.002668     0.002676                0.001365   \n",
       "8           0.001112         0.002668     0.000669                0.000910   \n",
       "9           0.001112         0.002668     0.000669                0.000227   \n",
       "\n",
       "   Num_Credit_Inquiries  Credit_Utilization_Ratio  Total_EMI_per_month  \\\n",
       "0               0.00154                  0.203984             0.000602   \n",
       "6               0.00154                  0.057005             0.000602   \n",
       "7               0.00154                  0.104739             0.000602   \n",
       "8               0.00077                  0.122940             0.000229   \n",
       "9               0.00077                  0.606799             0.000229   \n",
       "\n",
       "   Amount_invested_monthly  Monthly_Balance  Credit_Score  \n",
       "0                 0.008042     9.370800e-25             2  \n",
       "6                 0.017834     7.333200e-25             2  \n",
       "7                 0.002479     1.073970e-24             1  \n",
       "8                 0.010429     1.411680e-24             1  \n",
       "9                 0.004039     1.453380e-24             2  "
      ]
     },
     "execution_count": 19,
     "metadata": {},
     "output_type": "execute_result"
    }
   ],
   "source": [
    "df.head()"
   ]
  },
  {
   "cell_type": "code",
   "execution_count": 20,
   "id": "6d1d7849",
   "metadata": {},
   "outputs": [],
   "source": [
    "df.to_csv(\"../data/processed/train_processed.csv\", index=False)"
   ]
  }
 ],
 "metadata": {
  "kernelspec": {
   "display_name": ".venv (3.12.3)",
   "language": "python",
   "name": "python3"
  },
  "language_info": {
   "codemirror_mode": {
    "name": "ipython",
    "version": 3
   },
   "file_extension": ".py",
   "mimetype": "text/x-python",
   "name": "python",
   "nbconvert_exporter": "python",
   "pygments_lexer": "ipython3",
   "version": "3.12.3"
  }
 },
 "nbformat": 4,
 "nbformat_minor": 5
}

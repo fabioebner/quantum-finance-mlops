{
 "cells": [
  {
   "cell_type": "markdown",
   "id": "5168976c",
   "metadata": {},
   "source": [
    "# Desenvolvimento do modelo de predição"
   ]
  },
  {
   "cell_type": "code",
   "execution_count": 1,
   "id": "70194664",
   "metadata": {},
   "outputs": [],
   "source": [
    "import pandas as pd\n",
    "from dagshub.data_engine import datasources\n",
    "import mlflow\n",
    "import dagshub\n",
    "from sklearn.model_selection import train_test_split\n",
    "import mlflow.sklearn\n",
    "import mlflow.catboost\n",
    "from sklearn.linear_model import Ridge\n",
    "from sklearn.model_selection import GridSearchCV\n",
    "from sklearn.metrics import make_scorer, mean_squared_error, mean_absolute_error, r2_score, mean_absolute_percentage_error\n",
    "from sklearn.tree import DecisionTreeRegressor\n",
    "from sklearn.neural_network import MLPRegressor\n",
    "from xgboost import XGBRegressor\n",
    "import lightgbm as lgb\n",
    "from sklearn.svm import SVR\n",
    "from sklearn.gaussian_process import GaussianProcessRegressor\n",
    "from sklearn.gaussian_process.kernels import RBF, ConstantKernel as C\n",
    "import mlflow.models.signature\n",
    "from mlflow.models import infer_signature\n",
    "from catboost import CatBoostRegressor"
   ]
  },
  {
   "cell_type": "markdown",
   "id": "626a4644",
   "metadata": {},
   "source": [
    "# Obtendo o dataset"
   ]
  },
  {
   "cell_type": "code",
   "execution_count": 2,
   "id": "3f6549d7",
   "metadata": {},
   "outputs": [
    {
     "data": {
      "text/html": [
       "<pre style=\"white-space:pre;overflow-x:auto;line-height:normal;font-family:Menlo,'DejaVu Sans Mono',consolas,'Courier New',monospace\">Accessing as fabioebner\n",
       "</pre>\n"
      ],
      "text/plain": [
       "Accessing as fabioebner\n"
      ]
     },
     "metadata": {},
     "output_type": "display_data"
    }
   ],
   "source": [
    "ds = datasources.get('fabioebner/quantum-finance-mlops', 'processed')\n"
   ]
  },
  {
   "cell_type": "code",
   "execution_count": 3,
   "id": "0ca27336",
   "metadata": {},
   "outputs": [
    {
     "data": {
      "application/vnd.jupyter.widget-view+json": {
       "model_id": "8e5c4bc340dc4308992f91eef2f97e06",
       "version_major": 2,
       "version_minor": 0
      },
      "text/plain": [
       "Output()"
      ]
     },
     "metadata": {},
     "output_type": "display_data"
    },
    {
     "data": {
      "text/html": [
       "<pre style=\"white-space:pre;overflow-x:auto;line-height:normal;font-family:Menlo,'DejaVu Sans Mono',consolas,'Courier New',monospace\"></pre>\n"
      ],
      "text/plain": []
     },
     "metadata": {},
     "output_type": "display_data"
    },
    {
     "data": {
      "application/vnd.jupyter.widget-view+json": {
       "model_id": "876116adcb92447fb8d2ce7d4da4e10f",
       "version_major": 2,
       "version_minor": 0
      },
      "text/plain": [
       "Output()"
      ]
     },
     "metadata": {},
     "output_type": "display_data"
    },
    {
     "data": {
      "text/html": [
       "<pre style=\"white-space:pre;overflow-x:auto;line-height:normal;font-family:Menlo,'DejaVu Sans Mono',consolas,'Courier New',monospace\"></pre>\n"
      ],
      "text/plain": []
     },
     "metadata": {},
     "output_type": "display_data"
    }
   ],
   "source": [
    "#Baixando o dataset do processed\n",
    "ds.all().dataframe \n",
    "res = ds.head()\n",
    "for dp in res:\n",
    "    dataset_url = dp.download_url\n",
    "        \n",
    "    \n",
    "\n",
    "df =pd.read_csv(dataset_url)\n"
   ]
  },
  {
   "cell_type": "code",
   "execution_count": 4,
   "id": "c5cc31e2",
   "metadata": {},
   "outputs": [
    {
     "name": "stdout",
     "output_type": "stream",
     "text": [
      "<class 'pandas.core.frame.DataFrame'>\n",
      "RangeIndex: 44343 entries, 0 to 44342\n",
      "Data columns (total 33 columns):\n",
      " #   Column                       Non-Null Count  Dtype  \n",
      "---  ------                       --------------  -----  \n",
      " 0   Age                          44343 non-null  float64\n",
      " 1   Annual_Income                44343 non-null  float64\n",
      " 2   Monthly_Inhand_Salary        44343 non-null  float64\n",
      " 3   Num_Bank_Accounts            44343 non-null  float64\n",
      " 4   Num_Credit_Card              44343 non-null  float64\n",
      " 5   Num_of_Loan                  44343 non-null  float64\n",
      " 6   Delay_from_due_date          44343 non-null  float64\n",
      " 7   Num_of_Delayed_Payment       44343 non-null  float64\n",
      " 8   Num_Credit_Inquiries         44343 non-null  float64\n",
      " 9   Credit_Mix                   44343 non-null  float64\n",
      " 10  Outstanding_Debt             44343 non-null  float64\n",
      " 11  Credit_Utilization_Ratio     44343 non-null  float64\n",
      " 12  Total_EMI_per_month          44343 non-null  float64\n",
      " 13  Amount_invested_monthly      44343 non-null  float64\n",
      " 14  Monthly_Balance              44343 non-null  float64\n",
      " 15  Credit_Score                 44343 non-null  int64  \n",
      " 16  Credit_History_Total_Months  44343 non-null  float64\n",
      " 17  Occupation_Accountant        44343 non-null  float64\n",
      " 18  Occupation_Architect         44343 non-null  float64\n",
      " 19  Occupation_Developer         44343 non-null  float64\n",
      " 20  Occupation_Doctor            44343 non-null  float64\n",
      " 21  Occupation_Engineer          44343 non-null  float64\n",
      " 22  Occupation_Entrepreneur      44343 non-null  float64\n",
      " 23  Occupation_Journalist        44343 non-null  float64\n",
      " 24  Occupation_Lawyer            44343 non-null  float64\n",
      " 25  Occupation_Manager           44343 non-null  float64\n",
      " 26  Occupation_Mechanic          44343 non-null  float64\n",
      " 27  Occupation_Media_Manager     44343 non-null  float64\n",
      " 28  Occupation_Musician          44343 non-null  float64\n",
      " 29  Occupation_Scientist         44343 non-null  float64\n",
      " 30  Occupation_Teacher           44343 non-null  float64\n",
      " 31  Occupation_Writer            44343 non-null  float64\n",
      " 32  Occupation________           44343 non-null  float64\n",
      "dtypes: float64(32), int64(1)\n",
      "memory usage: 11.2 MB\n"
     ]
    }
   ],
   "source": [
    "df.info()"
   ]
  },
  {
   "cell_type": "code",
   "execution_count": 5,
   "id": "ab150377",
   "metadata": {},
   "outputs": [
    {
     "data": {
      "application/vnd.microsoft.datawrangler.viewer.v0+json": {
       "columns": [
        {
         "name": "index",
         "rawType": "int64",
         "type": "integer"
        },
        {
         "name": "Age",
         "rawType": "float64",
         "type": "float"
        },
        {
         "name": "Annual_Income",
         "rawType": "float64",
         "type": "float"
        },
        {
         "name": "Monthly_Inhand_Salary",
         "rawType": "float64",
         "type": "float"
        },
        {
         "name": "Num_Bank_Accounts",
         "rawType": "float64",
         "type": "float"
        },
        {
         "name": "Num_Credit_Card",
         "rawType": "float64",
         "type": "float"
        },
        {
         "name": "Num_of_Loan",
         "rawType": "float64",
         "type": "float"
        },
        {
         "name": "Delay_from_due_date",
         "rawType": "float64",
         "type": "float"
        },
        {
         "name": "Num_of_Delayed_Payment",
         "rawType": "float64",
         "type": "float"
        },
        {
         "name": "Num_Credit_Inquiries",
         "rawType": "float64",
         "type": "float"
        },
        {
         "name": "Credit_Mix",
         "rawType": "float64",
         "type": "float"
        },
        {
         "name": "Outstanding_Debt",
         "rawType": "float64",
         "type": "float"
        },
        {
         "name": "Credit_Utilization_Ratio",
         "rawType": "float64",
         "type": "float"
        },
        {
         "name": "Total_EMI_per_month",
         "rawType": "float64",
         "type": "float"
        },
        {
         "name": "Amount_invested_monthly",
         "rawType": "float64",
         "type": "float"
        },
        {
         "name": "Monthly_Balance",
         "rawType": "float64",
         "type": "float"
        },
        {
         "name": "Credit_Score",
         "rawType": "int64",
         "type": "integer"
        },
        {
         "name": "Credit_History_Total_Months",
         "rawType": "float64",
         "type": "float"
        },
        {
         "name": "Occupation_Accountant",
         "rawType": "float64",
         "type": "float"
        },
        {
         "name": "Occupation_Architect",
         "rawType": "float64",
         "type": "float"
        },
        {
         "name": "Occupation_Developer",
         "rawType": "float64",
         "type": "float"
        },
        {
         "name": "Occupation_Doctor",
         "rawType": "float64",
         "type": "float"
        },
        {
         "name": "Occupation_Engineer",
         "rawType": "float64",
         "type": "float"
        },
        {
         "name": "Occupation_Entrepreneur",
         "rawType": "float64",
         "type": "float"
        },
        {
         "name": "Occupation_Journalist",
         "rawType": "float64",
         "type": "float"
        },
        {
         "name": "Occupation_Lawyer",
         "rawType": "float64",
         "type": "float"
        },
        {
         "name": "Occupation_Manager",
         "rawType": "float64",
         "type": "float"
        },
        {
         "name": "Occupation_Mechanic",
         "rawType": "float64",
         "type": "float"
        },
        {
         "name": "Occupation_Media_Manager",
         "rawType": "float64",
         "type": "float"
        },
        {
         "name": "Occupation_Musician",
         "rawType": "float64",
         "type": "float"
        },
        {
         "name": "Occupation_Scientist",
         "rawType": "float64",
         "type": "float"
        },
        {
         "name": "Occupation_Teacher",
         "rawType": "float64",
         "type": "float"
        },
        {
         "name": "Occupation_Writer",
         "rawType": "float64",
         "type": "float"
        },
        {
         "name": "Occupation________",
         "rawType": "float64",
         "type": "float"
        }
       ],
       "ref": "12f79e30-e644-4955-a2e3-d22de31a8f48",
       "rows": [
        [
         "0",
         "0.0010383017997231",
         "0.00050052341514",
         "0.1011272615456447",
         "0.0016685205784204",
         "0.0026684456304202",
         "0.0026936026936026",
         "0.044776119402985",
         "0.0015919945417329",
         "0.0015420200462606",
         "1.0",
         "0.1619680121980258",
         "0.2040393077530361",
         "0.0006028375555096",
         "0.0080415295439002",
         "9.370888590850231e-25",
         "2",
         "0.6550868486352357",
         "0.0",
         "0.0",
         "0.0",
         "0.0",
         "0.0",
         "0.0",
         "0.0",
         "0.0",
         "0.0",
         "0.0",
         "0.0",
         "0.0",
         "1.0",
         "0.0",
         "0.0",
         "0.0"
        ],
        [
         "1",
         "0.0010383017997231",
         "0.00050052341514",
         "0.1011272615456447",
         "0.0016685205784204",
         "0.0026684456304202",
         "0.0026936026936026",
         "0.044776119402985",
         "0.0018194223334091",
         "0.0015420200462606",
         "0.3333333333333333",
         "0.1619680121980258",
         "0.0568823522635828",
         "0.0006028375555096",
         "0.0178344067412234",
         "7.33302543165326e-25",
         "2",
         "0.6699751861042184",
         "0.0",
         "0.0",
         "0.0",
         "0.0",
         "0.0",
         "0.0",
         "0.0",
         "0.0",
         "0.0",
         "0.0",
         "0.0",
         "0.0",
         "0.0",
         "1.0",
         "0.0",
         "0.0"
        ],
        [
         "2",
         "0.0016151361329026",
         "0.0011509175093239",
         "0.1826279031977916",
         "0.0011123470522803",
         "0.0026684456304202",
         "0.0006734006734006",
         "0.044776119402985",
         "0.0009097111667045",
         "0.0007710100231303",
         "0.3333333333333333",
         "0.1209577531300462",
         "0.1230403297998022",
         "0.0002288075121981",
         "0.0104291825168246",
         "1.4116784738225887e-24",
         "1",
         "0.7890818858560794",
         "0.0",
         "0.0",
         "0.0",
         "0.0",
         "0.0",
         "0.0",
         "0.0",
         "0.0",
         "0.0",
         "0.0",
         "0.0",
         "0.0",
         "0.0",
         "0.0",
         "0.0",
         "1.0"
        ],
        [
         "3",
         "0.0016151361329026",
         "0.0011509175093239",
         "0.1826279031977916",
         "0.0011123470522803",
         "0.0026684456304202",
         "0.0006734006734006",
         "0.1044776119402985",
         "0.0002274277916761",
         "0.0007710100231303",
         "0.3333333333333333",
         "0.1209577531300462",
         "0.606811707872443",
         "0.0002288075121981",
         "0.0040391237828531",
         "1.4533802358417332e-24",
         "2",
         "0.7915632754342431",
         "0.0",
         "0.0",
         "0.0",
         "0.0",
         "1.0",
         "0.0",
         "0.0",
         "0.0",
         "0.0",
         "0.0",
         "0.0",
         "0.0",
         "0.0",
         "0.0",
         "0.0",
         "0.0"
        ],
        [
         "4",
         "0.0016151361329026",
         "0.0011509175093239",
         "0.1826279031977916",
         "0.0011123470522803",
         "0.923949299533022",
         "0.0006734006734006",
         "0.044776119402985",
         "0.0002274277916761",
         "0.0007710100231303",
         "1.0",
         "0.1209577531300462",
         "0.4239090195888394",
         "0.0002288075121981",
         "0.0058515975695894",
         "1.3990060222396423e-24",
         "1",
         "0.7940446650124069",
         "0.0",
         "0.0",
         "0.0",
         "0.0",
         "0.0",
         "0.0",
         "0.0",
         "0.0",
         "0.0",
         "0.0",
         "0.0",
         "0.0",
         "0.0",
         "0.0",
         "0.0",
         "1.0"
        ]
       ],
       "shape": {
        "columns": 33,
        "rows": 5
       }
      },
      "text/html": [
       "<div>\n",
       "<style scoped>\n",
       "    .dataframe tbody tr th:only-of-type {\n",
       "        vertical-align: middle;\n",
       "    }\n",
       "\n",
       "    .dataframe tbody tr th {\n",
       "        vertical-align: top;\n",
       "    }\n",
       "\n",
       "    .dataframe thead th {\n",
       "        text-align: right;\n",
       "    }\n",
       "</style>\n",
       "<table border=\"1\" class=\"dataframe\">\n",
       "  <thead>\n",
       "    <tr style=\"text-align: right;\">\n",
       "      <th></th>\n",
       "      <th>Age</th>\n",
       "      <th>Annual_Income</th>\n",
       "      <th>Monthly_Inhand_Salary</th>\n",
       "      <th>Num_Bank_Accounts</th>\n",
       "      <th>Num_Credit_Card</th>\n",
       "      <th>Num_of_Loan</th>\n",
       "      <th>Delay_from_due_date</th>\n",
       "      <th>Num_of_Delayed_Payment</th>\n",
       "      <th>Num_Credit_Inquiries</th>\n",
       "      <th>Credit_Mix</th>\n",
       "      <th>...</th>\n",
       "      <th>Occupation_Journalist</th>\n",
       "      <th>Occupation_Lawyer</th>\n",
       "      <th>Occupation_Manager</th>\n",
       "      <th>Occupation_Mechanic</th>\n",
       "      <th>Occupation_Media_Manager</th>\n",
       "      <th>Occupation_Musician</th>\n",
       "      <th>Occupation_Scientist</th>\n",
       "      <th>Occupation_Teacher</th>\n",
       "      <th>Occupation_Writer</th>\n",
       "      <th>Occupation________</th>\n",
       "    </tr>\n",
       "  </thead>\n",
       "  <tbody>\n",
       "    <tr>\n",
       "      <th>0</th>\n",
       "      <td>0.001038</td>\n",
       "      <td>0.000501</td>\n",
       "      <td>0.101127</td>\n",
       "      <td>0.001669</td>\n",
       "      <td>0.002668</td>\n",
       "      <td>0.002694</td>\n",
       "      <td>0.044776</td>\n",
       "      <td>0.001592</td>\n",
       "      <td>0.001542</td>\n",
       "      <td>1.000000</td>\n",
       "      <td>...</td>\n",
       "      <td>0.0</td>\n",
       "      <td>0.0</td>\n",
       "      <td>0.0</td>\n",
       "      <td>0.0</td>\n",
       "      <td>0.0</td>\n",
       "      <td>0.0</td>\n",
       "      <td>1.0</td>\n",
       "      <td>0.0</td>\n",
       "      <td>0.0</td>\n",
       "      <td>0.0</td>\n",
       "    </tr>\n",
       "    <tr>\n",
       "      <th>1</th>\n",
       "      <td>0.001038</td>\n",
       "      <td>0.000501</td>\n",
       "      <td>0.101127</td>\n",
       "      <td>0.001669</td>\n",
       "      <td>0.002668</td>\n",
       "      <td>0.002694</td>\n",
       "      <td>0.044776</td>\n",
       "      <td>0.001819</td>\n",
       "      <td>0.001542</td>\n",
       "      <td>0.333333</td>\n",
       "      <td>...</td>\n",
       "      <td>0.0</td>\n",
       "      <td>0.0</td>\n",
       "      <td>0.0</td>\n",
       "      <td>0.0</td>\n",
       "      <td>0.0</td>\n",
       "      <td>0.0</td>\n",
       "      <td>0.0</td>\n",
       "      <td>1.0</td>\n",
       "      <td>0.0</td>\n",
       "      <td>0.0</td>\n",
       "    </tr>\n",
       "    <tr>\n",
       "      <th>2</th>\n",
       "      <td>0.001615</td>\n",
       "      <td>0.001151</td>\n",
       "      <td>0.182628</td>\n",
       "      <td>0.001112</td>\n",
       "      <td>0.002668</td>\n",
       "      <td>0.000673</td>\n",
       "      <td>0.044776</td>\n",
       "      <td>0.000910</td>\n",
       "      <td>0.000771</td>\n",
       "      <td>0.333333</td>\n",
       "      <td>...</td>\n",
       "      <td>0.0</td>\n",
       "      <td>0.0</td>\n",
       "      <td>0.0</td>\n",
       "      <td>0.0</td>\n",
       "      <td>0.0</td>\n",
       "      <td>0.0</td>\n",
       "      <td>0.0</td>\n",
       "      <td>0.0</td>\n",
       "      <td>0.0</td>\n",
       "      <td>1.0</td>\n",
       "    </tr>\n",
       "    <tr>\n",
       "      <th>3</th>\n",
       "      <td>0.001615</td>\n",
       "      <td>0.001151</td>\n",
       "      <td>0.182628</td>\n",
       "      <td>0.001112</td>\n",
       "      <td>0.002668</td>\n",
       "      <td>0.000673</td>\n",
       "      <td>0.104478</td>\n",
       "      <td>0.000227</td>\n",
       "      <td>0.000771</td>\n",
       "      <td>0.333333</td>\n",
       "      <td>...</td>\n",
       "      <td>0.0</td>\n",
       "      <td>0.0</td>\n",
       "      <td>0.0</td>\n",
       "      <td>0.0</td>\n",
       "      <td>0.0</td>\n",
       "      <td>0.0</td>\n",
       "      <td>0.0</td>\n",
       "      <td>0.0</td>\n",
       "      <td>0.0</td>\n",
       "      <td>0.0</td>\n",
       "    </tr>\n",
       "    <tr>\n",
       "      <th>4</th>\n",
       "      <td>0.001615</td>\n",
       "      <td>0.001151</td>\n",
       "      <td>0.182628</td>\n",
       "      <td>0.001112</td>\n",
       "      <td>0.923949</td>\n",
       "      <td>0.000673</td>\n",
       "      <td>0.044776</td>\n",
       "      <td>0.000227</td>\n",
       "      <td>0.000771</td>\n",
       "      <td>1.000000</td>\n",
       "      <td>...</td>\n",
       "      <td>0.0</td>\n",
       "      <td>0.0</td>\n",
       "      <td>0.0</td>\n",
       "      <td>0.0</td>\n",
       "      <td>0.0</td>\n",
       "      <td>0.0</td>\n",
       "      <td>0.0</td>\n",
       "      <td>0.0</td>\n",
       "      <td>0.0</td>\n",
       "      <td>1.0</td>\n",
       "    </tr>\n",
       "  </tbody>\n",
       "</table>\n",
       "<p>5 rows × 33 columns</p>\n",
       "</div>"
      ],
      "text/plain": [
       "        Age  Annual_Income  Monthly_Inhand_Salary  Num_Bank_Accounts  \\\n",
       "0  0.001038       0.000501               0.101127           0.001669   \n",
       "1  0.001038       0.000501               0.101127           0.001669   \n",
       "2  0.001615       0.001151               0.182628           0.001112   \n",
       "3  0.001615       0.001151               0.182628           0.001112   \n",
       "4  0.001615       0.001151               0.182628           0.001112   \n",
       "\n",
       "   Num_Credit_Card  Num_of_Loan  Delay_from_due_date  Num_of_Delayed_Payment  \\\n",
       "0         0.002668     0.002694             0.044776                0.001592   \n",
       "1         0.002668     0.002694             0.044776                0.001819   \n",
       "2         0.002668     0.000673             0.044776                0.000910   \n",
       "3         0.002668     0.000673             0.104478                0.000227   \n",
       "4         0.923949     0.000673             0.044776                0.000227   \n",
       "\n",
       "   Num_Credit_Inquiries  Credit_Mix  ...  Occupation_Journalist  \\\n",
       "0              0.001542    1.000000  ...                    0.0   \n",
       "1              0.001542    0.333333  ...                    0.0   \n",
       "2              0.000771    0.333333  ...                    0.0   \n",
       "3              0.000771    0.333333  ...                    0.0   \n",
       "4              0.000771    1.000000  ...                    0.0   \n",
       "\n",
       "   Occupation_Lawyer  Occupation_Manager  Occupation_Mechanic  \\\n",
       "0                0.0                 0.0                  0.0   \n",
       "1                0.0                 0.0                  0.0   \n",
       "2                0.0                 0.0                  0.0   \n",
       "3                0.0                 0.0                  0.0   \n",
       "4                0.0                 0.0                  0.0   \n",
       "\n",
       "   Occupation_Media_Manager  Occupation_Musician  Occupation_Scientist  \\\n",
       "0                       0.0                  0.0                   1.0   \n",
       "1                       0.0                  0.0                   0.0   \n",
       "2                       0.0                  0.0                   0.0   \n",
       "3                       0.0                  0.0                   0.0   \n",
       "4                       0.0                  0.0                   0.0   \n",
       "\n",
       "   Occupation_Teacher  Occupation_Writer  Occupation________  \n",
       "0                 0.0                0.0                 0.0  \n",
       "1                 1.0                0.0                 0.0  \n",
       "2                 0.0                0.0                 1.0  \n",
       "3                 0.0                0.0                 0.0  \n",
       "4                 0.0                0.0                 1.0  \n",
       "\n",
       "[5 rows x 33 columns]"
      ]
     },
     "execution_count": 5,
     "metadata": {},
     "output_type": "execute_result"
    }
   ],
   "source": [
    "df.head()"
   ]
  },
  {
   "cell_type": "code",
   "execution_count": 6,
   "id": "c8c50d00",
   "metadata": {},
   "outputs": [
    {
     "data": {
      "text/html": [
       "<pre style=\"white-space:pre;overflow-x:auto;line-height:normal;font-family:Menlo,'DejaVu Sans Mono',consolas,'Courier New',monospace\">Initialized MLflow to track repo <span style=\"color: #008000; text-decoration-color: #008000\">\"fabioebner/quantum-finance-mlops\"</span>\n",
       "</pre>\n"
      ],
      "text/plain": [
       "Initialized MLflow to track repo \u001b[32m\"fabioebner/quantum-finance-mlops\"\u001b[0m\n"
      ]
     },
     "metadata": {},
     "output_type": "display_data"
    },
    {
     "data": {
      "text/html": [
       "<pre style=\"white-space:pre;overflow-x:auto;line-height:normal;font-family:Menlo,'DejaVu Sans Mono',consolas,'Courier New',monospace\">Repository fabioebner/quantum-finance-mlops initialized!\n",
       "</pre>\n"
      ],
      "text/plain": [
       "Repository fabioebner/quantum-finance-mlops initialized!\n"
      ]
     },
     "metadata": {},
     "output_type": "display_data"
    },
    {
     "name": "stderr",
     "output_type": "stream",
     "text": [
      "2025/07/31 19:09:32 INFO mlflow.tracking.fluent: Autologging successfully enabled for lightgbm.\n",
      "2025/07/31 19:09:32 INFO mlflow.tracking.fluent: Autologging successfully enabled for sklearn.\n",
      "2025/07/31 19:09:32 INFO mlflow.tracking.fluent: Autologging successfully enabled for xgboost.\n"
     ]
    }
   ],
   "source": [
    "dagshub.init(repo_owner='fabioebner',\n",
    "             repo_name='quantum-finance-mlops',mlflow=True)\n",
    "\n",
    "mlflow.autolog()"
   ]
  },
  {
   "cell_type": "code",
   "execution_count": 7,
   "id": "d2ea7f6e",
   "metadata": {},
   "outputs": [],
   "source": [
    "X_train, X_test, y_train, y_test = train_test_split(df.drop(columns=['Credit_Score']), df['Credit_Score'], test_size=0.3, random_state=42)"
   ]
  },
  {
   "cell_type": "code",
   "execution_count": 8,
   "id": "8a5ed527",
   "metadata": {},
   "outputs": [],
   "source": [
    "#Funcao para rastrear o modelo\n",
    "\n",
    "def evaluate_and_log_model(kind, model_name, model, X_test, y_test):\n",
    "   predictions = model.predict(X_test)\n",
    "   mse = mean_squared_error(y_test, predictions)\n",
    "   mae = mean_absolute_error(y_test, predictions)\n",
    "   r2 = r2_score(y_test, predictions)\n",
    "   mape = mean_absolute_percentage_error(y_test, predictions)\n",
    "\n",
    "   mlflow.log_metric(\"MSE\", mse)\n",
    "   mlflow.log_metric(\"MAE\", mae)\n",
    "   mlflow.log_metric(\"R2\", r2)\n",
    "   mlflow.log_metric(\"MAPE\", mape)\n",
    "\n",
    "   # Inferir a assinatura automaticamente\n",
    "   signature = infer_signature(X_test, predictions)\n",
    "\n",
    "   if kind == \"catboost\":\n",
    "      mlflow.sklearn.log_model(model, \"model\", signature=signature, input_example=X_test[:5])\n",
    "   elif kind == \"xgboost\":\n",
    "      mlflow.xgboost.log_model(model, \"model\", signature=signature, input_example=X_test[:5])\n",
    "   elif kind == \"lightgbm\":\n",
    "      mlflow.lightgbm.log_model(model, \"model\", signature=signature, input_example=X_test[:5])\n",
    "   else:\n",
    "      mlflow.sklearn.log_model(model, \"model\", signature=signature, input_example=X_test[:5])\n"
   ]
  },
  {
   "cell_type": "markdown",
   "id": "829d3d46",
   "metadata": {},
   "source": [
    "### Experimento com Ridge Regression"
   ]
  },
  {
   "cell_type": "code",
   "execution_count": 34,
   "id": "e988015b",
   "metadata": {},
   "outputs": [
    {
     "name": "stderr",
     "output_type": "stream",
     "text": [
      "2025/07/31 18:41:07 INFO mlflow.sklearn.utils: Logging the 5 best runs, no runs will be omitted.\n"
     ]
    },
    {
     "name": "stdout",
     "output_type": "stream",
     "text": [
      "🏃 View run Ridge Regression at: https://dagshub.com/fabioebner/quantum-finance-mlops.mlflow/#/experiments/0/runs/48d6ebbd98a44cab936eee64b135b71e\n",
      "🧪 View experiment at: https://dagshub.com/fabioebner/quantum-finance-mlops.mlflow/#/experiments/0\n"
     ]
    }
   ],
   "source": [
    "with mlflow.start_run(run_name=\"Ridge Regression\"):\n",
    "    param_grid = {\n",
    "        'alpha': [0.1,1.0, 10.0, 100.0]\n",
    "    }\n",
    "\n",
    "    ridge = Ridge()\n",
    "    grid_search = GridSearchCV(ridge, param_grid, cv=5, scoring=make_scorer(mean_absolute_percentage_error, greater_is_better=False))\n",
    "    grid_search.fit(X_train, y_train)\n",
    "    best_model = grid_search.best_estimator_\n",
    "\n",
    "    mlflow.log_param(\"Best_alpha\", best_model.alpha)\n",
    "    evaluate_and_log_model(\"sklearn\", \"Ridge Regression\", best_model, X_test, y_test)"
   ]
  },
  {
   "cell_type": "markdown",
   "id": "f14c3a3e",
   "metadata": {},
   "source": [
    "### Decision Tree"
   ]
  },
  {
   "cell_type": "code",
   "execution_count": null,
   "id": "3d360698",
   "metadata": {},
   "outputs": [
    {
     "name": "stderr",
     "output_type": "stream",
     "text": [
      "2025/07/31 18:49:03 INFO mlflow.sklearn.utils: Logging the 5 best runs, 7 runs will be omitted.\n"
     ]
    },
    {
     "name": "stdout",
     "output_type": "stream",
     "text": [
      "🏃 View run resilient-ox-804 at: https://dagshub.com/fabioebner/quantum-finance-mlops.mlflow/#/experiments/0/runs/51abdae3b1ad47eca094792e3a220cae\n",
      "🧪 View experiment at: https://dagshub.com/fabioebner/quantum-finance-mlops.mlflow/#/experiments/0\n",
      "🏃 View run Decision Tree Regression  at: https://dagshub.com/fabioebner/quantum-finance-mlops.mlflow/#/experiments/0/runs/a341c6d1df5b4b17880807670390fd96\n",
      "🧪 View experiment at: https://dagshub.com/fabioebner/quantum-finance-mlops.mlflow/#/experiments/0\n"
     ]
    }
   ],
   "source": [
    "with mlflow.start_run(run_name=\"Decision Tree Regression\"):\n",
    "    param_grid = {\n",
    "        'max_depth': [3,5,10,None],\n",
    "        'min_samples_split': [2, 5, 10]\n",
    "    }\n",
    "\n",
    "    tree = DecisionTreeRegressor(random_state=42)\n",
    "    grid_search = GridSearchCV(tree, param_grid, scoring=make_scorer(mean_absolute_percentage_error, greater_is_better=False), cv=5)\n",
    "    grid_search.fit(X_train, y_train)\n",
    "\n",
    "    best_model = grid_search.best_estimator_\n",
    "\n",
    "    mlflow.log_param(\"Best_max_depth\", best_model.max_depth)\n",
    "    mlflow.log_param(\"Best_min_samples_split\", best_model.min_samples_split)\n",
    "\n",
    "\n",
    "    evaluate_and_log_model(\"sklearn\", \"Decision Tree Regression\", best_model, X_test, y_test)"
   ]
  },
  {
   "cell_type": "markdown",
   "id": "e2b22121",
   "metadata": {},
   "source": [
    "### MLP Regression"
   ]
  },
  {
   "cell_type": "code",
   "execution_count": null,
   "id": "ee31be84",
   "metadata": {},
   "outputs": [
    {
     "name": "stderr",
     "output_type": "stream",
     "text": [
      "/home/fabioebner/Documents/Pos/MLOPS/Trabalho/.venv/lib/python3.12/site-packages/sklearn/neural_network/_multilayer_perceptron.py:698: UserWarning: Training interrupted by user.\n",
      "  warnings.warn(\"Training interrupted by user.\")\n",
      "/home/fabioebner/Documents/Pos/MLOPS/Trabalho/.venv/lib/python3.12/site-packages/sklearn/neural_network/_multilayer_perceptron.py:698: UserWarning: Training interrupted by user.\n",
      "  warnings.warn(\"Training interrupted by user.\")\n"
     ]
    }
   ],
   "source": [
    "from sklearn.neural_network import MLPRegressor\n",
    "\n",
    "with mlflow.start_run(run_name=\"MLP Regression\"):\n",
    "    param_grid = {\n",
    "        'hidden_layer_sizes': [(50,), (100,), (50, 50)],\n",
    "        'activation': ['relu', 'tanh'],\n",
    "        'alpha': [0.0001, 0.001, 0.01, 0.1]\n",
    "    }\n",
    "\n",
    "    tree = MLPRegressor(max_iter=500, random_state=42)\n",
    "    grid_search = GridSearchCV(tree, param_grid, scoring=make_scorer(mean_absolute_percentage_error, greater_is_better=False), cv=5)\n",
    "    grid_search.fit(X_train, y_train)\n",
    "\n",
    "    best_model = grid_search.best_estimator_\n",
    "\n",
    "    mlflow.log_param(\"Best_hidden_layer_sizes\", best_model.hidden_layer_sizes)\n",
    "    mlflow.log_param(\"Best_activation\", best_model.activation)\n",
    "    mlflow.log_param(\"Best_alpha\", best_model.alpha)\n",
    "\n",
    "\n",
    "    evaluate_and_log_model(\"sklearn\", \"MLP Regression\", best_model, X_test, y_test)"
   ]
  },
  {
   "cell_type": "markdown",
   "id": "5e8593aa",
   "metadata": {},
   "source": [
    "### XGBoost Regressor"
   ]
  },
  {
   "cell_type": "code",
   "execution_count": null,
   "id": "e41795a0",
   "metadata": {},
   "outputs": [
    {
     "name": "stderr",
     "output_type": "stream",
     "text": [
      "2025/07/31 19:13:03 INFO mlflow.sklearn.utils: Logging the 5 best runs, 43 runs will be omitted.\n"
     ]
    },
    {
     "name": "stdout",
     "output_type": "stream",
     "text": [
      "🏃 View run bold-shad-251 at: https://dagshub.com/fabioebner/quantum-finance-mlops.mlflow/#/experiments/0/runs/78f7e629abc54d3f9baa34739ed5eb88\n",
      "🧪 View experiment at: https://dagshub.com/fabioebner/quantum-finance-mlops.mlflow/#/experiments/0\n",
      "🏃 View run adorable-steed-145 at: https://dagshub.com/fabioebner/quantum-finance-mlops.mlflow/#/experiments/0/runs/26a73df17ea34f08a91ee0008c52b2f4\n",
      "🧪 View experiment at: https://dagshub.com/fabioebner/quantum-finance-mlops.mlflow/#/experiments/0\n",
      "🏃 View run glamorous-mare-430 at: https://dagshub.com/fabioebner/quantum-finance-mlops.mlflow/#/experiments/0/runs/1191740f7b294214829241dc43e4266c\n",
      "🧪 View experiment at: https://dagshub.com/fabioebner/quantum-finance-mlops.mlflow/#/experiments/0\n",
      "🏃 View run unique-dolphin-288 at: https://dagshub.com/fabioebner/quantum-finance-mlops.mlflow/#/experiments/0/runs/84b525a6975a4a8cba3991b956b9e699\n",
      "🧪 View experiment at: https://dagshub.com/fabioebner/quantum-finance-mlops.mlflow/#/experiments/0\n",
      "🏃 View run invincible-tern-880 at: https://dagshub.com/fabioebner/quantum-finance-mlops.mlflow/#/experiments/0/runs/ce352639d6f04f42bc538c7a85e3f848\n",
      "🧪 View experiment at: https://dagshub.com/fabioebner/quantum-finance-mlops.mlflow/#/experiments/0\n",
      "🏃 View run XGBoost Regressor at: https://dagshub.com/fabioebner/quantum-finance-mlops.mlflow/#/experiments/0/runs/292e91f4ee9e45b089b2daef23f4ac8f\n",
      "🧪 View experiment at: https://dagshub.com/fabioebner/quantum-finance-mlops.mlflow/#/experiments/0\n"
     ]
    }
   ],
   "source": [
    "with mlflow.start_run(run_name=\"XGBoost Regressor\"):\n",
    "    param_grid = {\n",
    "        'n_estimators': [100, 200,300],\n",
    "        'max_depth': [3, 5, 7,9],\n",
    "        'learning_rate': [0.01, 0.1, 0.2, 0.3]\n",
    "    }\n",
    "\n",
    "    tree = XGBRegressor(random_state=42, verbosity=0)\n",
    "\n",
    "    grid_search = GridSearchCV(tree, param_grid, scoring=make_scorer(mean_absolute_percentage_error, greater_is_better=False), cv=5)\n",
    "    grid_search.fit(X_train, y_train)\n",
    "\n",
    "    best_model = grid_search.best_estimator_\n",
    "\n",
    "    mlflow.log_param(\"Best_n_estimators\", best_model.n_estimators)\n",
    "    mlflow.log_param(\"Best_max_depth\", best_model.max_depth)\n",
    "    mlflow.log_param(\"Best_learning_rate\", best_model.learning_rate)\n",
    "\n",
    "\n",
    "    evaluate_and_log_model(\"xgboost\", \"XGBoost Regressor\", best_model, X_test, y_test)"
   ]
  },
  {
   "cell_type": "markdown",
   "id": "d329a1ef",
   "metadata": {},
   "source": [
    "### Registry do Modelo"
   ]
  },
  {
   "cell_type": "code",
   "execution_count": 10,
   "id": "bad28e5f",
   "metadata": {},
   "outputs": [
    {
     "name": "stderr",
     "output_type": "stream",
     "text": [
      "Successfully registered model 'CreditScoreModel'.\n",
      "2025/07/31 19:17:37 INFO mlflow.store.model_registry.abstract_store: Waiting up to 300 seconds for model version to finish creation. Model name: CreditScoreModel, version 1\n",
      "Created version '1' of model 'CreditScoreModel'.\n"
     ]
    },
    {
     "data": {
      "text/plain": [
       "<ModelVersion: aliases=[], creation_timestamp=1754000257293, current_stage='None', description='', last_updated_timestamp=1754000257293, name='CreditScoreModel', run_id='292e91f4ee9e45b089b2daef23f4ac8f', run_link='', source='mlflow-artifacts:/f9b061f0135d46b3a8b4b22bcf840fe9/292e91f4ee9e45b089b2daef23f4ac8f/artifacts/model', status='READY', status_message=None, tags={}, user_id='', version='1'>"
      ]
     },
     "execution_count": 10,
     "metadata": {},
     "output_type": "execute_result"
    }
   ],
   "source": [
    "run_id = \"292e91f4ee9e45b089b2daef23f4ac8f\"\n",
    "\n",
    "mlflow.register_model(\n",
    "    model_uri=f\"runs:/{run_id}/model\",\n",
    "    name=\"CreditScoreModel\"\n",
    ")"
   ]
  }
 ],
 "metadata": {
  "kernelspec": {
   "display_name": ".venv",
   "language": "python",
   "name": "python3"
  },
  "language_info": {
   "codemirror_mode": {
    "name": "ipython",
    "version": 3
   },
   "file_extension": ".py",
   "mimetype": "text/x-python",
   "name": "python",
   "nbconvert_exporter": "python",
   "pygments_lexer": "ipython3",
   "version": "3.12.3"
  }
 },
 "nbformat": 4,
 "nbformat_minor": 5
}

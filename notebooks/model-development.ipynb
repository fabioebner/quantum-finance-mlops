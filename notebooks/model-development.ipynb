{
 "cells": [
  {
   "cell_type": "markdown",
   "id": "5168976c",
   "metadata": {},
   "source": [
    "# Desenvolvimento do modelo de predição"
   ]
  },
  {
   "cell_type": "code",
   "execution_count": 1,
   "id": "70194664",
   "metadata": {},
   "outputs": [],
   "source": [
    "import pandas as pd\n",
    "from dagshub.data_engine import datasources\n",
    "import mlflow\n",
    "import dagshub\n",
    "from sklearn.model_selection import train_test_split\n",
    "import mlflow.sklearn\n",
    "import mlflow.catboost\n",
    "from sklearn.linear_model import Ridge\n",
    "from sklearn.model_selection import GridSearchCV\n",
    "from sklearn.metrics import make_scorer, mean_squared_error, mean_absolute_error, r2_score, mean_absolute_percentage_error\n",
    "from sklearn.tree import DecisionTreeRegressor\n",
    "from sklearn.neural_network import MLPRegressor\n",
    "from xgboost import XGBRegressor\n",
    "import lightgbm as lgb\n",
    "from sklearn.svm import SVR\n",
    "from sklearn.gaussian_process import GaussianProcessRegressor\n",
    "from sklearn.gaussian_process.kernels import RBF, ConstantKernel as C\n",
    "import mlflow.models.signature\n",
    "from mlflow.models import infer_signature\n",
    "from catboost import CatBoostRegressor"
   ]
  },
  {
   "cell_type": "markdown",
   "id": "626a4644",
   "metadata": {},
   "source": [
    "# Obtendo o dataset"
   ]
  },
  {
   "cell_type": "code",
   "execution_count": 2,
   "id": "3f6549d7",
   "metadata": {},
   "outputs": [
    {
     "data": {
      "text/html": [
       "<pre style=\"white-space:pre;overflow-x:auto;line-height:normal;font-family:Menlo,'DejaVu Sans Mono',consolas,'Courier New',monospace\">Accessing as fabioebner\n",
       "</pre>\n"
      ],
      "text/plain": [
       "Accessing as fabioebner\n"
      ]
     },
     "metadata": {},
     "output_type": "display_data"
    }
   ],
   "source": [
    "ds = datasources.get('fabioebner/quantum-finance-mlops', 'processed')\n"
   ]
  },
  {
   "cell_type": "code",
   "execution_count": 3,
   "id": "0ca27336",
   "metadata": {},
   "outputs": [
    {
     "data": {
      "application/vnd.jupyter.widget-view+json": {
       "model_id": "8a152e123ef34759be64b7007b54a16e",
       "version_major": 2,
       "version_minor": 0
      },
      "text/plain": [
       "Output()"
      ]
     },
     "metadata": {},
     "output_type": "display_data"
    },
    {
     "data": {
      "text/html": [
       "<pre style=\"white-space:pre;overflow-x:auto;line-height:normal;font-family:Menlo,'DejaVu Sans Mono',consolas,'Courier New',monospace\"></pre>\n"
      ],
      "text/plain": []
     },
     "metadata": {},
     "output_type": "display_data"
    },
    {
     "data": {
      "application/vnd.jupyter.widget-view+json": {
       "model_id": "ecb86ae188714293b9e971fe324810b9",
       "version_major": 2,
       "version_minor": 0
      },
      "text/plain": [
       "Output()"
      ]
     },
     "metadata": {},
     "output_type": "display_data"
    },
    {
     "data": {
      "text/html": [
       "<pre style=\"white-space:pre;overflow-x:auto;line-height:normal;font-family:Menlo,'DejaVu Sans Mono',consolas,'Courier New',monospace\"></pre>\n"
      ],
      "text/plain": []
     },
     "metadata": {},
     "output_type": "display_data"
    }
   ],
   "source": [
    "#Baixando o dataset do processed\n",
    "ds.all().dataframe \n",
    "res = ds.head()\n",
    "for dp in res:\n",
    "    dataset_url = dp.download_url\n",
    "        \n",
    "    \n",
    "\n",
    "df =pd.read_csv(dataset_url)\n"
   ]
  },
  {
   "cell_type": "code",
   "execution_count": 4,
   "id": "c5cc31e2",
   "metadata": {},
   "outputs": [
    {
     "name": "stdout",
     "output_type": "stream",
     "text": [
      "<class 'pandas.core.frame.DataFrame'>\n",
      "RangeIndex: 73156 entries, 0 to 73155\n",
      "Data columns (total 14 columns):\n",
      " #   Column                    Non-Null Count  Dtype  \n",
      "---  ------                    --------------  -----  \n",
      " 0   Age                       73156 non-null  float64\n",
      " 1   Occupation                73156 non-null  float64\n",
      " 2   Annual_Income             73156 non-null  float64\n",
      " 3   Monthly_Inhand_Salary     73156 non-null  float64\n",
      " 4   Num_Bank_Accounts         73156 non-null  float64\n",
      " 5   Num_Credit_Card           73156 non-null  float64\n",
      " 6   Num_of_Loan               73156 non-null  float64\n",
      " 7   Num_of_Delayed_Payment    73156 non-null  float64\n",
      " 8   Num_Credit_Inquiries      73156 non-null  float64\n",
      " 9   Credit_Utilization_Ratio  73156 non-null  float64\n",
      " 10  Total_EMI_per_month       73156 non-null  float64\n",
      " 11  Amount_invested_monthly   73156 non-null  float64\n",
      " 12  Monthly_Balance           73156 non-null  float64\n",
      " 13  Credit_Score              73156 non-null  int64  \n",
      "dtypes: float64(13), int64(1)\n",
      "memory usage: 7.8 MB\n"
     ]
    }
   ],
   "source": [
    "df.info()"
   ]
  },
  {
   "cell_type": "code",
   "execution_count": 5,
   "id": "ab150377",
   "metadata": {},
   "outputs": [
    {
     "data": {
      "application/vnd.microsoft.datawrangler.viewer.v0+json": {
       "columns": [
        {
         "name": "index",
         "rawType": "int64",
         "type": "integer"
        },
        {
         "name": "Age",
         "rawType": "float64",
         "type": "float"
        },
        {
         "name": "Occupation",
         "rawType": "float64",
         "type": "float"
        },
        {
         "name": "Annual_Income",
         "rawType": "float64",
         "type": "float"
        },
        {
         "name": "Monthly_Inhand_Salary",
         "rawType": "float64",
         "type": "float"
        },
        {
         "name": "Num_Bank_Accounts",
         "rawType": "float64",
         "type": "float"
        },
        {
         "name": "Num_Credit_Card",
         "rawType": "float64",
         "type": "float"
        },
        {
         "name": "Num_of_Loan",
         "rawType": "float64",
         "type": "float"
        },
        {
         "name": "Num_of_Delayed_Payment",
         "rawType": "float64",
         "type": "float"
        },
        {
         "name": "Num_Credit_Inquiries",
         "rawType": "float64",
         "type": "float"
        },
        {
         "name": "Credit_Utilization_Ratio",
         "rawType": "float64",
         "type": "float"
        },
        {
         "name": "Total_EMI_per_month",
         "rawType": "float64",
         "type": "float"
        },
        {
         "name": "Amount_invested_monthly",
         "rawType": "float64",
         "type": "float"
        },
        {
         "name": "Monthly_Balance",
         "rawType": "float64",
         "type": "float"
        },
        {
         "name": "Credit_Score",
         "rawType": "int64",
         "type": "integer"
        }
       ],
       "ref": "44c5cb69-efcb-49f0-a84f-859f40d6e35d",
       "rows": [
        [
         "0",
         "0.0010363887609396",
         "0.6",
         "0.00050052341514",
         "0.1020865741716316",
         "0.0016685205784204",
         "0.0026684456304202",
         "0.0026755852842809",
         "0.0015919945417329",
         "0.0015402387370042",
         "0.2039835164835165",
         "0.000602081840376",
         "0.008042",
         "9.370800000000001e-25",
         "2"
        ],
        [
         "1",
         "0.0010363887609396",
         "0.6",
         "0.00050052341514",
         "0.1020865741716316",
         "0.0016685205784204",
         "0.0026684456304202",
         "0.0026755852842809",
         "0.0018194223334091",
         "0.0015402387370042",
         "0.0570054945054945",
         "0.000602081840376",
         "0.017834",
         "7.333200000000001e-25",
         "2"
        ],
        [
         "2",
         "0.0010363887609396",
         "0.6",
         "0.00050052341514",
         "0.1020865741716316",
         "0.0016685205784204",
         "0.0026684456304202",
         "0.0026755852842809",
         "0.0013645667500568",
         "0.0015402387370042",
         "0.1047390109890109",
         "0.000602081840376",
         "0.002479",
         "1.0739699999999999e-24",
         "1"
        ],
        [
         "3",
         "0.001612160294795",
         "0.0",
         "0.0011509175093239",
         "0.1835006825054459",
         "0.0011123470522803",
         "0.0026684456304202",
         "0.0006688963210702",
         "0.0009097111667045",
         "0.0007701193685021",
         "0.1229395604395604",
         "0.0002285894741956",
         "0.010429",
         "1.4116799999999999e-24",
         "1"
        ],
        [
         "4",
         "0.001612160294795",
         "0.5333333333333333",
         "0.0011509175093239",
         "0.1835006825054459",
         "0.0011123470522803",
         "0.0026684456304202",
         "0.0006688963210702",
         "0.0002274277916761",
         "0.0007701193685021",
         "0.6067994505494505",
         "0.0002285894741956",
         "0.004039",
         "1.4533799999999999e-24",
         "2"
        ]
       ],
       "shape": {
        "columns": 14,
        "rows": 5
       }
      },
      "text/html": [
       "<div>\n",
       "<style scoped>\n",
       "    .dataframe tbody tr th:only-of-type {\n",
       "        vertical-align: middle;\n",
       "    }\n",
       "\n",
       "    .dataframe tbody tr th {\n",
       "        vertical-align: top;\n",
       "    }\n",
       "\n",
       "    .dataframe thead th {\n",
       "        text-align: right;\n",
       "    }\n",
       "</style>\n",
       "<table border=\"1\" class=\"dataframe\">\n",
       "  <thead>\n",
       "    <tr style=\"text-align: right;\">\n",
       "      <th></th>\n",
       "      <th>Age</th>\n",
       "      <th>Occupation</th>\n",
       "      <th>Annual_Income</th>\n",
       "      <th>Monthly_Inhand_Salary</th>\n",
       "      <th>Num_Bank_Accounts</th>\n",
       "      <th>Num_Credit_Card</th>\n",
       "      <th>Num_of_Loan</th>\n",
       "      <th>Num_of_Delayed_Payment</th>\n",
       "      <th>Num_Credit_Inquiries</th>\n",
       "      <th>Credit_Utilization_Ratio</th>\n",
       "      <th>Total_EMI_per_month</th>\n",
       "      <th>Amount_invested_monthly</th>\n",
       "      <th>Monthly_Balance</th>\n",
       "      <th>Credit_Score</th>\n",
       "    </tr>\n",
       "  </thead>\n",
       "  <tbody>\n",
       "    <tr>\n",
       "      <th>0</th>\n",
       "      <td>0.001036</td>\n",
       "      <td>0.600000</td>\n",
       "      <td>0.000501</td>\n",
       "      <td>0.102087</td>\n",
       "      <td>0.001669</td>\n",
       "      <td>0.002668</td>\n",
       "      <td>0.002676</td>\n",
       "      <td>0.001592</td>\n",
       "      <td>0.00154</td>\n",
       "      <td>0.203984</td>\n",
       "      <td>0.000602</td>\n",
       "      <td>0.008042</td>\n",
       "      <td>9.370800e-25</td>\n",
       "      <td>2</td>\n",
       "    </tr>\n",
       "    <tr>\n",
       "      <th>1</th>\n",
       "      <td>0.001036</td>\n",
       "      <td>0.600000</td>\n",
       "      <td>0.000501</td>\n",
       "      <td>0.102087</td>\n",
       "      <td>0.001669</td>\n",
       "      <td>0.002668</td>\n",
       "      <td>0.002676</td>\n",
       "      <td>0.001819</td>\n",
       "      <td>0.00154</td>\n",
       "      <td>0.057005</td>\n",
       "      <td>0.000602</td>\n",
       "      <td>0.017834</td>\n",
       "      <td>7.333200e-25</td>\n",
       "      <td>2</td>\n",
       "    </tr>\n",
       "    <tr>\n",
       "      <th>2</th>\n",
       "      <td>0.001036</td>\n",
       "      <td>0.600000</td>\n",
       "      <td>0.000501</td>\n",
       "      <td>0.102087</td>\n",
       "      <td>0.001669</td>\n",
       "      <td>0.002668</td>\n",
       "      <td>0.002676</td>\n",
       "      <td>0.001365</td>\n",
       "      <td>0.00154</td>\n",
       "      <td>0.104739</td>\n",
       "      <td>0.000602</td>\n",
       "      <td>0.002479</td>\n",
       "      <td>1.073970e-24</td>\n",
       "      <td>1</td>\n",
       "    </tr>\n",
       "    <tr>\n",
       "      <th>3</th>\n",
       "      <td>0.001612</td>\n",
       "      <td>0.000000</td>\n",
       "      <td>0.001151</td>\n",
       "      <td>0.183501</td>\n",
       "      <td>0.001112</td>\n",
       "      <td>0.002668</td>\n",
       "      <td>0.000669</td>\n",
       "      <td>0.000910</td>\n",
       "      <td>0.00077</td>\n",
       "      <td>0.122940</td>\n",
       "      <td>0.000229</td>\n",
       "      <td>0.010429</td>\n",
       "      <td>1.411680e-24</td>\n",
       "      <td>1</td>\n",
       "    </tr>\n",
       "    <tr>\n",
       "      <th>4</th>\n",
       "      <td>0.001612</td>\n",
       "      <td>0.533333</td>\n",
       "      <td>0.001151</td>\n",
       "      <td>0.183501</td>\n",
       "      <td>0.001112</td>\n",
       "      <td>0.002668</td>\n",
       "      <td>0.000669</td>\n",
       "      <td>0.000227</td>\n",
       "      <td>0.00077</td>\n",
       "      <td>0.606799</td>\n",
       "      <td>0.000229</td>\n",
       "      <td>0.004039</td>\n",
       "      <td>1.453380e-24</td>\n",
       "      <td>2</td>\n",
       "    </tr>\n",
       "  </tbody>\n",
       "</table>\n",
       "</div>"
      ],
      "text/plain": [
       "        Age  Occupation  Annual_Income  Monthly_Inhand_Salary  \\\n",
       "0  0.001036    0.600000       0.000501               0.102087   \n",
       "1  0.001036    0.600000       0.000501               0.102087   \n",
       "2  0.001036    0.600000       0.000501               0.102087   \n",
       "3  0.001612    0.000000       0.001151               0.183501   \n",
       "4  0.001612    0.533333       0.001151               0.183501   \n",
       "\n",
       "   Num_Bank_Accounts  Num_Credit_Card  Num_of_Loan  Num_of_Delayed_Payment  \\\n",
       "0           0.001669         0.002668     0.002676                0.001592   \n",
       "1           0.001669         0.002668     0.002676                0.001819   \n",
       "2           0.001669         0.002668     0.002676                0.001365   \n",
       "3           0.001112         0.002668     0.000669                0.000910   \n",
       "4           0.001112         0.002668     0.000669                0.000227   \n",
       "\n",
       "   Num_Credit_Inquiries  Credit_Utilization_Ratio  Total_EMI_per_month  \\\n",
       "0               0.00154                  0.203984             0.000602   \n",
       "1               0.00154                  0.057005             0.000602   \n",
       "2               0.00154                  0.104739             0.000602   \n",
       "3               0.00077                  0.122940             0.000229   \n",
       "4               0.00077                  0.606799             0.000229   \n",
       "\n",
       "   Amount_invested_monthly  Monthly_Balance  Credit_Score  \n",
       "0                 0.008042     9.370800e-25             2  \n",
       "1                 0.017834     7.333200e-25             2  \n",
       "2                 0.002479     1.073970e-24             1  \n",
       "3                 0.010429     1.411680e-24             1  \n",
       "4                 0.004039     1.453380e-24             2  "
      ]
     },
     "execution_count": 5,
     "metadata": {},
     "output_type": "execute_result"
    }
   ],
   "source": [
    "df.head()"
   ]
  },
  {
   "cell_type": "code",
   "execution_count": 6,
   "id": "c8c50d00",
   "metadata": {},
   "outputs": [
    {
     "data": {
      "text/html": [
       "<pre style=\"white-space:pre;overflow-x:auto;line-height:normal;font-family:Menlo,'DejaVu Sans Mono',consolas,'Courier New',monospace\">Initialized MLflow to track repo <span style=\"color: #008000; text-decoration-color: #008000\">\"fabioebner/quantum-finance-mlops\"</span>\n",
       "</pre>\n"
      ],
      "text/plain": [
       "Initialized MLflow to track repo \u001b[32m\"fabioebner/quantum-finance-mlops\"\u001b[0m\n"
      ]
     },
     "metadata": {},
     "output_type": "display_data"
    },
    {
     "data": {
      "text/html": [
       "<pre style=\"white-space:pre;overflow-x:auto;line-height:normal;font-family:Menlo,'DejaVu Sans Mono',consolas,'Courier New',monospace\">Repository fabioebner/quantum-finance-mlops initialized!\n",
       "</pre>\n"
      ],
      "text/plain": [
       "Repository fabioebner/quantum-finance-mlops initialized!\n"
      ]
     },
     "metadata": {},
     "output_type": "display_data"
    },
    {
     "name": "stderr",
     "output_type": "stream",
     "text": [
      "2025/08/01 08:24:09 INFO mlflow.tracking.fluent: Autologging successfully enabled for lightgbm.\n",
      "2025/08/01 08:24:10 INFO mlflow.tracking.fluent: Autologging successfully enabled for sklearn.\n",
      "2025/08/01 08:24:10 INFO mlflow.tracking.fluent: Autologging successfully enabled for xgboost.\n"
     ]
    }
   ],
   "source": [
    "dagshub.init(repo_owner='fabioebner',\n",
    "             repo_name='quantum-finance-mlops',mlflow=True)\n",
    "\n",
    "mlflow.autolog()"
   ]
  },
  {
   "cell_type": "code",
   "execution_count": 7,
   "id": "d2ea7f6e",
   "metadata": {},
   "outputs": [],
   "source": [
    "X_train, X_test, y_train, y_test = train_test_split(df.drop(columns=['Credit_Score']), df['Credit_Score'], test_size=0.3, random_state=42)"
   ]
  },
  {
   "cell_type": "code",
   "execution_count": 8,
   "id": "8a5ed527",
   "metadata": {},
   "outputs": [],
   "source": [
    "#Funcao para rastrear o modelo\n",
    "\n",
    "def evaluate_and_log_model(kind, model_name, model, X_test, y_test):\n",
    "   predictions = model.predict(X_test)\n",
    "   mse = mean_squared_error(y_test, predictions)\n",
    "   mae = mean_absolute_error(y_test, predictions)\n",
    "   r2 = r2_score(y_test, predictions)\n",
    "   mape = mean_absolute_percentage_error(y_test, predictions)\n",
    "\n",
    "   mlflow.log_metric(\"MSE\", mse)\n",
    "   mlflow.log_metric(\"MAE\", mae)\n",
    "   mlflow.log_metric(\"R2\", r2)\n",
    "   mlflow.log_metric(\"MAPE\", mape)\n",
    "\n",
    "   # Inferir a assinatura automaticamente\n",
    "   signature = infer_signature(X_test, predictions)\n",
    "\n",
    "   if kind == \"catboost\":\n",
    "      mlflow.sklearn.log_model(model, \"model\", signature=signature, input_example=X_test[:5])\n",
    "   elif kind == \"xgboost\":\n",
    "      mlflow.xgboost.log_model(model, \"model\", signature=signature, input_example=X_test[:5])\n",
    "   elif kind == \"lightgbm\":\n",
    "      mlflow.lightgbm.log_model(model, \"model\", signature=signature, input_example=X_test[:5])\n",
    "   else:\n",
    "      mlflow.sklearn.log_model(model, \"model\", signature=signature, input_example=X_test[:5])\n"
   ]
  },
  {
   "cell_type": "markdown",
   "id": "829d3d46",
   "metadata": {},
   "source": [
    "### Experimento com Ridge Regression"
   ]
  },
  {
   "cell_type": "code",
   "execution_count": 9,
   "id": "e988015b",
   "metadata": {},
   "outputs": [
    {
     "name": "stderr",
     "output_type": "stream",
     "text": [
      "2025/08/01 08:24:30 INFO mlflow.sklearn.utils: Logging the 5 best runs, no runs will be omitted.\n"
     ]
    },
    {
     "name": "stdout",
     "output_type": "stream",
     "text": [
      "🏃 View run flawless-hawk-49 at: https://dagshub.com/fabioebner/quantum-finance-mlops.mlflow/#/experiments/0/runs/4397b9d1843446b8ad92171bf121b301\n",
      "🧪 View experiment at: https://dagshub.com/fabioebner/quantum-finance-mlops.mlflow/#/experiments/0\n",
      "🏃 View run suave-cow-689 at: https://dagshub.com/fabioebner/quantum-finance-mlops.mlflow/#/experiments/0/runs/309700858dc64f69b45bc512f7acec84\n",
      "🧪 View experiment at: https://dagshub.com/fabioebner/quantum-finance-mlops.mlflow/#/experiments/0\n",
      "🏃 View run rebellious-auk-736 at: https://dagshub.com/fabioebner/quantum-finance-mlops.mlflow/#/experiments/0/runs/c55b70cb61ac41ebbed28041b113642c\n",
      "🧪 View experiment at: https://dagshub.com/fabioebner/quantum-finance-mlops.mlflow/#/experiments/0\n",
      "🏃 View run caring-stork-618 at: https://dagshub.com/fabioebner/quantum-finance-mlops.mlflow/#/experiments/0/runs/a0ad85e8d5bd4de39519e2ebf43c07ea\n",
      "🧪 View experiment at: https://dagshub.com/fabioebner/quantum-finance-mlops.mlflow/#/experiments/0\n",
      "🏃 View run Ridge Regression at: https://dagshub.com/fabioebner/quantum-finance-mlops.mlflow/#/experiments/0/runs/a331b90f18364cec95729d3d3594017d\n",
      "🧪 View experiment at: https://dagshub.com/fabioebner/quantum-finance-mlops.mlflow/#/experiments/0\n"
     ]
    },
    {
     "name": "stdout",
     "output_type": "stream",
     "text": [
      "🏃 View run hilarious-bear-587 at: https://dagshub.com/fabioebner/quantum-finance-mlops.mlflow/#/experiments/0/runs/b50888807fc7428c90afc4ecc91fbe71\n",
      "🧪 View experiment at: https://dagshub.com/fabioebner/quantum-finance-mlops.mlflow/#/experiments/0\n",
      "🏃 View run shivering-sheep-382 at: https://dagshub.com/fabioebner/quantum-finance-mlops.mlflow/#/experiments/0/runs/edc00efaa3cc4ac9a67c323d6a586925\n",
      "🧪 View experiment at: https://dagshub.com/fabioebner/quantum-finance-mlops.mlflow/#/experiments/0\n",
      "🏃 View run fun-donkey-678 at: https://dagshub.com/fabioebner/quantum-finance-mlops.mlflow/#/experiments/0/runs/24d396f96ac049dfbf48d6faba062e22\n",
      "🧪 View experiment at: https://dagshub.com/fabioebner/quantum-finance-mlops.mlflow/#/experiments/0\n",
      "🏃 View run bold-snake-900 at: https://dagshub.com/fabioebner/quantum-finance-mlops.mlflow/#/experiments/0/runs/939aaa5b3254463e92a7a137af266423\n",
      "🧪 View experiment at: https://dagshub.com/fabioebner/quantum-finance-mlops.mlflow/#/experiments/0\n",
      "🏃 View run honorable-bass-720 at: https://dagshub.com/fabioebner/quantum-finance-mlops.mlflow/#/experiments/0/runs/2cd2c1c2dfd04402a011111cf2a2bed4\n",
      "🧪 View experiment at: https://dagshub.com/fabioebner/quantum-finance-mlops.mlflow/#/experiments/0\n",
      "🏃 View run trusting-bass-364 at: https://dagshub.com/fabioebner/quantum-finance-mlops.mlflow/#/experiments/0/runs/b6a3f65fce5b46c0addca1ca000ce362\n",
      "🧪 View experiment at: https://dagshub.com/fabioebner/quantum-finance-mlops.mlflow/#/experiments/0\n",
      "🏃 View run honorable-stag-139 at: https://dagshub.com/fabioebner/quantum-finance-mlops.mlflow/#/experiments/0/runs/779eb1782c4b447b8bac35b779ad55f1\n",
      "🧪 View experiment at: https://dagshub.com/fabioebner/quantum-finance-mlops.mlflow/#/experiments/0\n",
      "🏃 View run intrigued-cod-55 at: https://dagshub.com/fabioebner/quantum-finance-mlops.mlflow/#/experiments/0/runs/dae4c7460e31414ebec4191b9b529cc6\n",
      "🧪 View experiment at: https://dagshub.com/fabioebner/quantum-finance-mlops.mlflow/#/experiments/0\n"
     ]
    },
    {
     "name": "stderr",
     "output_type": "stream",
     "text": [
      "WARNING:urllib3.connectionpool:Retrying (Retry(total=6, connect=7, read=6, redirect=7, status=7)) after connection broken by 'RemoteDisconnected('Remote end closed connection without response')': /fabioebner/quantum-finance-mlops.mlflow/api/2.0/mlflow/runs/create\n",
      "WARNING:urllib3.connectionpool:Retrying (Retry(total=6, connect=7, read=6, redirect=7, status=7)) after connection broken by 'RemoteDisconnected('Remote end closed connection without response')': /fabioebner/quantum-finance-mlops.mlflow/api/2.0/mlflow/runs/create\n",
      "WARNING:urllib3.connectionpool:Retrying (Retry(total=6, connect=7, read=6, redirect=7, status=7)) after connection broken by 'RemoteDisconnected('Remote end closed connection without response')': /fabioebner/quantum-finance-mlops.mlflow/api/2.0/mlflow/runs/create\n",
      "WARNING:urllib3.connectionpool:Retrying (Retry(total=6, connect=7, read=6, redirect=7, status=7)) after connection broken by 'RemoteDisconnected('Remote end closed connection without response')': /fabioebner/quantum-finance-mlops.mlflow/api/2.0/mlflow/runs/create\n"
     ]
    },
    {
     "name": "stdout",
     "output_type": "stream",
     "text": [
      "🏃 View run amusing-midge-521 at: https://dagshub.com/fabioebner/quantum-finance-mlops.mlflow/#/experiments/0/runs/899ac9d27b5644e59bef5fcfd21d387e\n",
      "🧪 View experiment at: https://dagshub.com/fabioebner/quantum-finance-mlops.mlflow/#/experiments/0\n",
      "🏃 View run agreeable-carp-801 at: https://dagshub.com/fabioebner/quantum-finance-mlops.mlflow/#/experiments/0/runs/affb86040d0246fb9d28625a3275808f\n",
      "🧪 View experiment at: https://dagshub.com/fabioebner/quantum-finance-mlops.mlflow/#/experiments/0\n",
      "🏃 View run salty-doe-939 at: https://dagshub.com/fabioebner/quantum-finance-mlops.mlflow/#/experiments/0/runs/1457a99991da47bc82ea405bb06f247a\n",
      "🧪 View experiment at: https://dagshub.com/fabioebner/quantum-finance-mlops.mlflow/#/experiments/0\n",
      "🏃 View run nosy-deer-585 at: https://dagshub.com/fabioebner/quantum-finance-mlops.mlflow/#/experiments/0/runs/eca7e0e40cd642d3b8995183bead0113\n",
      "🧪 View experiment at: https://dagshub.com/fabioebner/quantum-finance-mlops.mlflow/#/experiments/0\n"
     ]
    }
   ],
   "source": [
    "with mlflow.start_run(run_name=\"Ridge Regression\"):\n",
    "    param_grid = {\n",
    "        'alpha': [0.1,1.0, 10.0, 100.0]\n",
    "    }\n",
    "\n",
    "    ridge = Ridge()\n",
    "    grid_search = GridSearchCV(ridge, param_grid, cv=5, scoring=make_scorer(mean_absolute_percentage_error, greater_is_better=False))\n",
    "    grid_search.fit(X_train, y_train)\n",
    "    best_model = grid_search.best_estimator_\n",
    "\n",
    "    mlflow.log_param(\"Best_alpha\", best_model.alpha)\n",
    "    evaluate_and_log_model(\"sklearn\", \"Ridge Regression\", best_model, X_test, y_test)"
   ]
  },
  {
   "cell_type": "markdown",
   "id": "f14c3a3e",
   "metadata": {},
   "source": [
    "### Decision Tree"
   ]
  },
  {
   "cell_type": "code",
   "execution_count": 10,
   "id": "3d360698",
   "metadata": {},
   "outputs": [
    {
     "name": "stderr",
     "output_type": "stream",
     "text": [
      "2025/08/01 08:25:32 INFO mlflow.sklearn.utils: Logging the 5 best runs, 7 runs will be omitted.\n"
     ]
    },
    {
     "name": "stdout",
     "output_type": "stream",
     "text": [
      "🏃 View run spiffy-mink-571 at: https://dagshub.com/fabioebner/quantum-finance-mlops.mlflow/#/experiments/0/runs/4cc9cdef771f46498c402701c0de123f\n",
      "🧪 View experiment at: https://dagshub.com/fabioebner/quantum-finance-mlops.mlflow/#/experiments/0\n",
      "🏃 View run Decision Tree Regression at: https://dagshub.com/fabioebner/quantum-finance-mlops.mlflow/#/experiments/0/runs/8df2245856664dafbc7da59bfe52746e\n",
      "🧪 View experiment at: https://dagshub.com/fabioebner/quantum-finance-mlops.mlflow/#/experiments/0\n"
     ]
    },
    {
     "name": "stdout",
     "output_type": "stream",
     "text": [
      "🏃 View run languid-slug-706 at: https://dagshub.com/fabioebner/quantum-finance-mlops.mlflow/#/experiments/0/runs/cb9b7c6df43a4e7db0c0963bbd4d9548\n",
      "🧪 View experiment at: https://dagshub.com/fabioebner/quantum-finance-mlops.mlflow/#/experiments/0\n"
     ]
    },
    {
     "name": "stderr",
     "output_type": "stream",
     "text": [
      "WARNING:urllib3.connectionpool:Retrying (Retry(total=6, connect=7, read=6, redirect=7, status=7)) after connection broken by 'RemoteDisconnected('Remote end closed connection without response')': /fabioebner/quantum-finance-mlops.mlflow/api/2.0/mlflow/runs/create\n"
     ]
    },
    {
     "name": "stdout",
     "output_type": "stream",
     "text": [
      "🏃 View run valuable-gnat-667 at: https://dagshub.com/fabioebner/quantum-finance-mlops.mlflow/#/experiments/0/runs/3985dc70e3ed4b80a6c8d8bc04e7de8a\n",
      "🧪 View experiment at: https://dagshub.com/fabioebner/quantum-finance-mlops.mlflow/#/experiments/0\n"
     ]
    }
   ],
   "source": [
    "with mlflow.start_run(run_name=\"Decision Tree Regression\"):\n",
    "    param_grid = {\n",
    "        'max_depth': [3,5,10,None],\n",
    "        'min_samples_split': [2, 5, 10]\n",
    "    }\n",
    "\n",
    "    tree = DecisionTreeRegressor(random_state=42)\n",
    "    grid_search = GridSearchCV(tree, param_grid, scoring=make_scorer(mean_absolute_percentage_error, greater_is_better=False), cv=5)\n",
    "    grid_search.fit(X_train, y_train)\n",
    "\n",
    "    best_model = grid_search.best_estimator_\n",
    "\n",
    "    mlflow.log_param(\"Best_max_depth\", best_model.max_depth)\n",
    "    mlflow.log_param(\"Best_min_samples_split\", best_model.min_samples_split)\n",
    "\n",
    "\n",
    "    evaluate_and_log_model(\"sklearn\", \"Decision Tree Regression\", best_model, X_test, y_test)"
   ]
  },
  {
   "cell_type": "markdown",
   "id": "e2b22121",
   "metadata": {},
   "source": [
    "### MLP Regression"
   ]
  },
  {
   "cell_type": "code",
   "execution_count": 12,
   "id": "ee31be84",
   "metadata": {},
   "outputs": [
    {
     "name": "stderr",
     "output_type": "stream",
     "text": [
      "WARNING:urllib3.connectionpool:Retrying (Retry(total=6, connect=7, read=6, redirect=7, status=7)) after connection broken by 'RemoteDisconnected('Remote end closed connection without response')': /fabioebner/quantum-finance-mlops.mlflow/api/2.0/mlflow/runs/get?run_uuid=1f244e92069943acaca8a036c74ff5b7&run_id=1f244e92069943acaca8a036c74ff5b7\n",
      "2025/08/01 08:44:06 INFO mlflow.sklearn.utils: Logging the 5 best runs, 19 runs will be omitted.\n"
     ]
    },
    {
     "name": "stdout",
     "output_type": "stream",
     "text": [
      "🏃 View run MLP Regression at: https://dagshub.com/fabioebner/quantum-finance-mlops.mlflow/#/experiments/0/runs/1f244e92069943acaca8a036c74ff5b7\n",
      "🧪 View experiment at: https://dagshub.com/fabioebner/quantum-finance-mlops.mlflow/#/experiments/0\n"
     ]
    }
   ],
   "source": [
    "from sklearn.neural_network import MLPRegressor\n",
    "\n",
    "with mlflow.start_run(run_name=\"MLP Regression\"):\n",
    "    param_grid = {\n",
    "        'hidden_layer_sizes': [(50,), (100,), (50, 50)],\n",
    "        'activation': ['relu', 'tanh'],\n",
    "        'alpha': [0.0001, 0.001, 0.01, 0.1]\n",
    "    }\n",
    "\n",
    "    tree = MLPRegressor(max_iter=500, random_state=42)\n",
    "    grid_search = GridSearchCV(tree, param_grid, scoring=make_scorer(mean_absolute_percentage_error, greater_is_better=False), cv=5)\n",
    "    grid_search.fit(X_train, y_train)\n",
    "\n",
    "    best_model = grid_search.best_estimator_\n",
    "\n",
    "    mlflow.log_param(\"Best_hidden_layer_sizes\", best_model.hidden_layer_sizes)\n",
    "    mlflow.log_param(\"Best_activation\", best_model.activation)\n",
    "    mlflow.log_param(\"Best_alpha\", best_model.alpha)\n",
    "\n",
    "\n",
    "    evaluate_and_log_model(\"sklearn\", \"MLP Regression\", best_model, X_test, y_test)"
   ]
  },
  {
   "cell_type": "markdown",
   "id": "5e8593aa",
   "metadata": {},
   "source": [
    "### XGBoost Regressor"
   ]
  },
  {
   "cell_type": "code",
   "execution_count": 11,
   "id": "e41795a0",
   "metadata": {},
   "outputs": [
    {
     "name": "stderr",
     "output_type": "stream",
     "text": [
      "2025/08/01 08:30:01 INFO mlflow.sklearn.utils: Logging the 5 best runs, 43 runs will be omitted.\n",
      "/home/fabioebner/Documents/Pos/MLOPS/Trabalho/quantum-finance-mlops/.venv/lib/python3.12/site-packages/xgboost/sklearn.py:1028: UserWarning: [08:30:23] WARNING: /workspace/src/c_api/c_api.cc:1427: Saving model in the UBJSON format as default.  You can use file extension: `json`, `ubj` or `deprecated` to choose between formats.\n",
      "  self.get_booster().save_model(fname)\n"
     ]
    },
    {
     "name": "stdout",
     "output_type": "stream",
     "text": [
      "🏃 View run XGBoost Regressor at: https://dagshub.com/fabioebner/quantum-finance-mlops.mlflow/#/experiments/0/runs/c58a1f8a1afe4cb09eadb358edd11f51\n",
      "🧪 View experiment at: https://dagshub.com/fabioebner/quantum-finance-mlops.mlflow/#/experiments/0\n"
     ]
    }
   ],
   "source": [
    "with mlflow.start_run(run_name=\"XGBoost Regressor\"):\n",
    "    param_grid = {\n",
    "        'n_estimators': [100, 200,300],\n",
    "        'max_depth': [3, 5, 7,9],\n",
    "        'learning_rate': [0.01, 0.1, 0.2, 0.3]\n",
    "    }\n",
    "\n",
    "    tree = XGBRegressor(random_state=42, verbosity=0)\n",
    "\n",
    "    grid_search = GridSearchCV(tree, param_grid, scoring=make_scorer(mean_absolute_percentage_error, greater_is_better=False), cv=5)\n",
    "    grid_search.fit(X_train, y_train)\n",
    "\n",
    "    best_model = grid_search.best_estimator_\n",
    "\n",
    "    mlflow.log_param(\"Best_n_estimators\", best_model.n_estimators)\n",
    "    mlflow.log_param(\"Best_max_depth\", best_model.max_depth)\n",
    "    mlflow.log_param(\"Best_learning_rate\", best_model.learning_rate)\n",
    "\n",
    "\n",
    "    evaluate_and_log_model(\"xgboost\", \"XGBoost Regressor\", best_model, X_test, y_test)"
   ]
  },
  {
   "cell_type": "markdown",
   "id": "d329a1ef",
   "metadata": {},
   "source": [
    "### Registry do Modelo"
   ]
  },
  {
   "cell_type": "code",
   "execution_count": 13,
   "id": "bad28e5f",
   "metadata": {},
   "outputs": [
    {
     "name": "stderr",
     "output_type": "stream",
     "text": [
      "Successfully registered model 'CreditScoreModel'.\n",
      "2025/08/01 08:45:08 INFO mlflow.store.model_registry.abstract_store: Waiting up to 300 seconds for model version to finish creation. Model name: CreditScoreModel, version 1\n",
      "Created version '1' of model 'CreditScoreModel'.\n"
     ]
    },
    {
     "data": {
      "text/plain": [
       "<ModelVersion: aliases=[], creation_timestamp=1754048708145, current_stage='None', description='', last_updated_timestamp=1754048708145, name='CreditScoreModel', run_id='c58a1f8a1afe4cb09eadb358edd11f51', run_link='', source='mlflow-artifacts:/f9b061f0135d46b3a8b4b22bcf840fe9/c58a1f8a1afe4cb09eadb358edd11f51/artifacts/model', status='READY', status_message=None, tags={}, user_id='', version='1'>"
      ]
     },
     "execution_count": 13,
     "metadata": {},
     "output_type": "execute_result"
    }
   ],
   "source": [
    "run_id = \"c58a1f8a1afe4cb09eadb358edd11f51\"\n",
    "\n",
    "mlflow.register_model(\n",
    "    model_uri=f\"runs:/{run_id}/model\",\n",
    "    name=\"CreditScoreModel\"\n",
    ")"
   ]
  }
 ],
 "metadata": {
  "kernelspec": {
   "display_name": ".venv (3.12.3)",
   "language": "python",
   "name": "python3"
  },
  "language_info": {
   "codemirror_mode": {
    "name": "ipython",
    "version": 3
   },
   "file_extension": ".py",
   "mimetype": "text/x-python",
   "name": "python",
   "nbconvert_exporter": "python",
   "pygments_lexer": "ipython3",
   "version": "3.12.3"
  }
 },
 "nbformat": 4,
 "nbformat_minor": 5
}
